{
 "cells": [
  {
   "cell_type": "code",
   "execution_count": 31,
   "id": "ecee89ca",
   "metadata": {},
   "outputs": [],
   "source": [
    "import pandas as pd\n",
    "pfad = 'C:/Users/benja/Documents/Persoenlich/Ausbildung/TU/Digitale_Kompetenzen/03_Anwendungsfelder_der_Digitalisierung/Machine_Learning/UE/1_Exercise/Datensaetze/Mammographic_mass_dataset/'\n",
    "\n",
    "y_train = pd.read_csv(pfad + 'y_train.csv')\n",
    "y_test = pd.read_csv(pfad + 'y_test.csv')"
   ]
  },
  {
   "cell_type": "code",
   "execution_count": 32,
   "id": "c7abf343",
   "metadata": {},
   "outputs": [],
   "source": [
    "## Daten als CSV-Datei speichern - Imputation durch Mittelwert\n",
    "X_train_imputed_mean = pd.read_csv(pfad + 'X_train_imputed_mean.csv')\n",
    "X_test_imputed_mean = pd.read_csv(pfad + 'X_test_imputed_mean.csv')"
   ]
  },
  {
   "cell_type": "code",
   "execution_count": 33,
   "id": "6a8d5ff2",
   "metadata": {},
   "outputs": [],
   "source": [
    "## Daten als CSV-Datei speichern - Imputation durch Median\n",
    "X_train_imputed_median = pd.read_csv(pfad + 'X_train_imputed_median.csv')\n",
    "X_test_imputed_median = pd.read_csv(pfad + 'X_test_imputed_median.csv')"
   ]
  },
  {
   "cell_type": "code",
   "execution_count": 34,
   "id": "cb2e2042",
   "metadata": {},
   "outputs": [],
   "source": [
    "## Daten als CSV-Datei speichern - Imputation durch Regression\n",
    "X_train_imputed_regr = pd.read_csv(pfad + 'X_train_imputed_regr.csv')\n",
    "X_test_imputed_regr = pd.read_csv(pfad + 'X_test_imputed_regr.csv')"
   ]
  },
  {
   "cell_type": "code",
   "execution_count": 35,
   "id": "6808be72",
   "metadata": {},
   "outputs": [],
   "source": [
    "## Daten als CSV-Datei speichern - Gelöschte NaN-Einträge\n",
    "X_train_clean = pd.read_csv(pfad + 'X_train_clean.csv')\n",
    "y_train_clean = pd.read_csv(pfad + 'y_train_clean.csv')\n",
    "\n",
    "X_test_clean = pd.read_csv(pfad + 'X_test_clean.csv')\n",
    "y_test_clean = pd.read_csv(pfad + 'y_test_clean.csv')"
   ]
  },
  {
   "cell_type": "markdown",
   "id": "23403ca8",
   "metadata": {},
   "source": [
    "# Evaluierung der Imputationsmethode"
   ]
  },
  {
   "cell_type": "code",
   "execution_count": 36,
   "id": "defa59d5",
   "metadata": {},
   "outputs": [],
   "source": [
    "# Entscheidungsbaum mit Default-Einstellungen: bereinigte NaN-Werte\n",
    "from sklearn.tree import DecisionTreeClassifier\n",
    "clf = DecisionTreeClassifier(criterion = 'gini') #Init des Entscheidungsbaumes\n",
    "clf = clf.fit(X_train_clean,y_train_clean)  #Training des Entscheidungsbaumes\n",
    "#clf.get_params()"
   ]
  },
  {
   "cell_type": "code",
   "execution_count": 37,
   "id": "985bf358",
   "metadata": {},
   "outputs": [],
   "source": [
    "y_pred = clf.predict(X_test_clean) #Prädiktion der Testdaten\n",
    "#y_pred"
   ]
  },
  {
   "cell_type": "code",
   "execution_count": 25,
   "id": "6af9b45f",
   "metadata": {},
   "outputs": [],
   "source": [
    "#clf.predict_proba(X_train_uncor)"
   ]
  },
  {
   "cell_type": "code",
   "execution_count": 38,
   "id": "05550299",
   "metadata": {},
   "outputs": [
    {
     "data": {
      "text/plain": [
       "0.7529411764705882"
      ]
     },
     "execution_count": 38,
     "metadata": {},
     "output_type": "execute_result"
    }
   ],
   "source": [
    "from sklearn.metrics import accuracy_score\n",
    "accuracy_score(y_test_clean, y_pred)"
   ]
  },
  {
   "cell_type": "code",
   "execution_count": 39,
   "id": "c108bbde",
   "metadata": {},
   "outputs": [
    {
     "data": {
      "text/plain": [
       "array([0.73484848, 0.79545455, 0.76515152, 0.75      , 0.78030303])"
      ]
     },
     "execution_count": 39,
     "metadata": {},
     "output_type": "execute_result"
    }
   ],
   "source": [
    "#from sklearn import datasets, linear_modelf\n",
    "import numpy as np\n",
    "from sklearn.model_selection import cross_val_score\n",
    "scores = cross_val_score(clf, X_train_clean, y_train_clean, cv = 5) #Kreuzvalidierung\n",
    "scores"
   ]
  },
  {
   "cell_type": "code",
   "execution_count": 40,
   "id": "bf5dad6f",
   "metadata": {},
   "outputs": [
    {
     "data": {
      "text/plain": [
       "0.7651515151515151"
      ]
     },
     "execution_count": 40,
     "metadata": {},
     "output_type": "execute_result"
    }
   ],
   "source": [
    "np.mean(scores) #Generalisierbarkeit des Modells"
   ]
  },
  {
   "cell_type": "code",
   "execution_count": 41,
   "id": "626e6b91",
   "metadata": {},
   "outputs": [
    {
     "data": {
      "text/plain": [
       "0.021427478217774146"
      ]
     },
     "execution_count": 41,
     "metadata": {},
     "output_type": "execute_result"
    }
   ],
   "source": [
    "np.std(scores) #Stabilität des Modellgüte"
   ]
  },
  {
   "cell_type": "code",
   "execution_count": 16,
   "id": "69b154cd",
   "metadata": {},
   "outputs": [],
   "source": [
    "# Entscheidungsbaum mit Default-Einstellungen: durch Mittelwert bereinigte Daten\n",
    "from sklearn.tree import DecisionTreeClassifier\n",
    "clf = DecisionTreeClassifier(criterion = 'gini') #Init des Entscheidungsbaumes\n",
    "clf = clf.fit(X_train_imputed_mean,y_train)  #Training des Entscheidungsbaumes\n",
    "#clf.get_params()"
   ]
  },
  {
   "cell_type": "code",
   "execution_count": 44,
   "id": "60aadd04",
   "metadata": {},
   "outputs": [],
   "source": [
    "y_pred = clf.predict(X_test_imputed_mean) #Prädiktion der Testdaten\n",
    "#y_pred"
   ]
  },
  {
   "cell_type": "code",
   "execution_count": 45,
   "id": "7d2ec4f3",
   "metadata": {},
   "outputs": [
    {
     "data": {
      "text/plain": [
       "0.7512953367875648"
      ]
     },
     "execution_count": 45,
     "metadata": {},
     "output_type": "execute_result"
    }
   ],
   "source": [
    "from sklearn.metrics import accuracy_score\n",
    "accuracy_score(y_test, y_pred)"
   ]
  },
  {
   "cell_type": "code",
   "execution_count": 46,
   "id": "bf9030bf",
   "metadata": {},
   "outputs": [
    {
     "data": {
      "text/plain": [
       "array([0.73376623, 0.87012987, 0.78571429, 0.75816993, 0.79738562])"
      ]
     },
     "execution_count": 46,
     "metadata": {},
     "output_type": "execute_result"
    }
   ],
   "source": [
    "import numpy as np\n",
    "from sklearn.model_selection import cross_val_score\n",
    "scores = cross_val_score(clf, X_train_imputed_mean, y_train, cv = 5) #Kreuzvalidierung\n",
    "scores"
   ]
  },
  {
   "cell_type": "code",
   "execution_count": 47,
   "id": "3bea2f2d",
   "metadata": {},
   "outputs": [
    {
     "data": {
      "text/plain": [
       "0.789033189033189"
      ]
     },
     "execution_count": 47,
     "metadata": {},
     "output_type": "execute_result"
    }
   ],
   "source": [
    "np.mean(scores) #Generalisierbarkeit des Modells"
   ]
  },
  {
   "cell_type": "code",
   "execution_count": 48,
   "id": "17c3eb47",
   "metadata": {},
   "outputs": [
    {
     "data": {
      "text/plain": [
       "0.04618317169416566"
      ]
     },
     "execution_count": 48,
     "metadata": {},
     "output_type": "execute_result"
    }
   ],
   "source": [
    "np.std(scores) #Stabilität des Modellgüte"
   ]
  },
  {
   "cell_type": "code",
   "execution_count": 49,
   "id": "47229123",
   "metadata": {},
   "outputs": [
    {
     "name": "stdout",
     "output_type": "stream",
     "text": [
      "              precision    recall  f1-score   support\n",
      "\n",
      "           0       0.76      0.76      0.76       101\n",
      "           1       0.74      0.74      0.74        92\n",
      "\n",
      "    accuracy                           0.75       193\n",
      "   macro avg       0.75      0.75      0.75       193\n",
      "weighted avg       0.75      0.75      0.75       193\n",
      "\n"
     ]
    }
   ],
   "source": [
    "class_report_train = classification_report(y_test, y_pred)\n",
    "print(class_report_train)"
   ]
  },
  {
   "cell_type": "code",
   "execution_count": 50,
   "id": "15b43be8",
   "metadata": {},
   "outputs": [],
   "source": [
    "# Entscheidungsbaum mit Default-Einstellungen: durch Median bereinigte Daten\n",
    "from sklearn.tree import DecisionTreeClassifier\n",
    "clf = DecisionTreeClassifier(criterion = 'gini') #Init des Entscheidungsbaumes\n",
    "clf = clf.fit(X_train_imputed_median,y_train)  #Training des Entscheidungsbaumes\n",
    "#clf.get_params()"
   ]
  },
  {
   "cell_type": "code",
   "execution_count": 51,
   "id": "40919fba",
   "metadata": {},
   "outputs": [],
   "source": [
    "y_pred = clf.predict(X_test_imputed_median) #Prädiktion der Testdaten\n",
    "#y_pred"
   ]
  },
  {
   "cell_type": "code",
   "execution_count": 52,
   "id": "66311a33",
   "metadata": {},
   "outputs": [
    {
     "data": {
      "text/plain": [
       "0.7616580310880829"
      ]
     },
     "execution_count": 52,
     "metadata": {},
     "output_type": "execute_result"
    }
   ],
   "source": [
    "from sklearn.metrics import accuracy_score\n",
    "accuracy_score(y_test, y_pred)"
   ]
  },
  {
   "cell_type": "code",
   "execution_count": 53,
   "id": "0e61ad37",
   "metadata": {},
   "outputs": [
    {
     "data": {
      "text/plain": [
       "array([0.74025974, 0.80519481, 0.77272727, 0.73202614, 0.78431373])"
      ]
     },
     "execution_count": 53,
     "metadata": {},
     "output_type": "execute_result"
    }
   ],
   "source": [
    "import numpy as np\n",
    "from sklearn.model_selection import cross_val_score\n",
    "scores = cross_val_score(clf, X_train_imputed_median, y_train, cv = 5) #Kreuzvalidierung\n",
    "scores"
   ]
  },
  {
   "cell_type": "code",
   "execution_count": 54,
   "id": "5de17d0e",
   "metadata": {},
   "outputs": [
    {
     "data": {
      "text/plain": [
       "0.7669043374925728"
      ]
     },
     "execution_count": 54,
     "metadata": {},
     "output_type": "execute_result"
    }
   ],
   "source": [
    "np.mean(scores) #Generalisierbarkeit des Modells"
   ]
  },
  {
   "cell_type": "code",
   "execution_count": 55,
   "id": "f2f6640c",
   "metadata": {},
   "outputs": [
    {
     "data": {
      "text/plain": [
       "0.027311449026552193"
      ]
     },
     "execution_count": 55,
     "metadata": {},
     "output_type": "execute_result"
    }
   ],
   "source": [
    "np.std(scores) #Stabilität des Modellgüte"
   ]
  },
  {
   "cell_type": "code",
   "execution_count": 56,
   "id": "6ec59e41",
   "metadata": {},
   "outputs": [
    {
     "name": "stdout",
     "output_type": "stream",
     "text": [
      "              precision    recall  f1-score   support\n",
      "\n",
      "           0       0.78      0.76      0.77       101\n",
      "           1       0.74      0.76      0.75        92\n",
      "\n",
      "    accuracy                           0.76       193\n",
      "   macro avg       0.76      0.76      0.76       193\n",
      "weighted avg       0.76      0.76      0.76       193\n",
      "\n"
     ]
    }
   ],
   "source": [
    "class_report_train = classification_report(y_test, y_pred)\n",
    "print(class_report_train)"
   ]
  },
  {
   "cell_type": "code",
   "execution_count": 57,
   "id": "caa39d1a",
   "metadata": {},
   "outputs": [],
   "source": [
    "# Entscheidungsbaum mit Default-Einstellungen: durch Regression bereinigte Daten\n",
    "from sklearn.tree import DecisionTreeClassifier\n",
    "clf = DecisionTreeClassifier(criterion = 'gini') #Init des Entscheidungsbaumes\n",
    "clf = clf.fit(X_train_imputed_regr,y_train)  #Training des Entscheidungsbaumes\n",
    "#clf.get_params()"
   ]
  },
  {
   "cell_type": "code",
   "execution_count": 58,
   "id": "388c8881",
   "metadata": {},
   "outputs": [],
   "source": [
    "y_pred = clf.predict(X_test_imputed_regr) #Prädiktion der Testdaten\n",
    "#y_pred"
   ]
  },
  {
   "cell_type": "code",
   "execution_count": 59,
   "id": "6ca9c88c",
   "metadata": {},
   "outputs": [
    {
     "data": {
      "text/plain": [
       "0.7616580310880829"
      ]
     },
     "execution_count": 59,
     "metadata": {},
     "output_type": "execute_result"
    }
   ],
   "source": [
    "from sklearn.metrics import accuracy_score\n",
    "accuracy_score(y_test, y_pred)"
   ]
  },
  {
   "cell_type": "code",
   "execution_count": 41,
   "id": "e1353238",
   "metadata": {},
   "outputs": [
    {
     "data": {
      "text/plain": [
       "array([0.72077922, 0.85714286, 0.74675325, 0.75816993, 0.81045752])"
      ]
     },
     "execution_count": 41,
     "metadata": {},
     "output_type": "execute_result"
    }
   ],
   "source": [
    "import numpy as np\n",
    "from sklearn.model_selection import cross_val_score\n",
    "scores = cross_val_score(clf, X_train_imputed_regr, y_train, cv = 5) #Kreuzvalidierung\n",
    "scores"
   ]
  },
  {
   "cell_type": "code",
   "execution_count": 60,
   "id": "f4e1f0c8",
   "metadata": {},
   "outputs": [
    {
     "data": {
      "text/plain": [
       "0.7669043374925728"
      ]
     },
     "execution_count": 60,
     "metadata": {},
     "output_type": "execute_result"
    }
   ],
   "source": [
    "np.mean(scores) #Generalisierbarkeit des Modells"
   ]
  },
  {
   "cell_type": "code",
   "execution_count": 61,
   "id": "577ca4ac",
   "metadata": {},
   "outputs": [
    {
     "data": {
      "text/plain": [
       "0.027311449026552193"
      ]
     },
     "execution_count": 61,
     "metadata": {},
     "output_type": "execute_result"
    }
   ],
   "source": [
    "np.std(scores) #Stabilität des Modellgüte"
   ]
  },
  {
   "cell_type": "code",
   "execution_count": null,
   "id": "edb87a47",
   "metadata": {},
   "outputs": [],
   "source": []
  },
  {
   "cell_type": "markdown",
   "id": "3b18885e",
   "metadata": {},
   "source": [
    "# Ausreifung des Entscheidungsbaumes"
   ]
  },
  {
   "cell_type": "markdown",
   "id": "021c94ab",
   "metadata": {},
   "source": [
    "# Criterion: Gini"
   ]
  },
  {
   "cell_type": "markdown",
   "id": "de93d62c",
   "metadata": {},
   "source": [
    "# Variation: max_depth"
   ]
  },
  {
   "cell_type": "code",
   "execution_count": 133,
   "id": "aa7cd60c",
   "metadata": {},
   "outputs": [],
   "source": [
    "# Entscheidungsbaum mit Default-Einstellungen und unkorrilierten Daten\n",
    "from sklearn.tree import DecisionTreeClassifier\n",
    "clf = DecisionTreeClassifier(criterion = 'gini', max_depth = 4) #Init des Entscheidungsbaumes\n",
    "clf = clf.fit(X_train_imputed_regr,y_train)  #Training des Entscheidungsbaumes\n",
    "#clf.get_params()\n"
   ]
  },
  {
   "cell_type": "code",
   "execution_count": 134,
   "id": "07894d6c",
   "metadata": {},
   "outputs": [],
   "source": [
    "y_pred = clf.predict(X_test_imputed_regr) #Prädiktion der Testdaten\n",
    "#y_pred"
   ]
  },
  {
   "cell_type": "code",
   "execution_count": 135,
   "id": "3baf2ba6",
   "metadata": {},
   "outputs": [
    {
     "data": {
      "text/plain": [
       "0.8238341968911918"
      ]
     },
     "execution_count": 135,
     "metadata": {},
     "output_type": "execute_result"
    }
   ],
   "source": [
    "accuracy_score(y_test, y_pred)"
   ]
  },
  {
   "cell_type": "code",
   "execution_count": 136,
   "id": "1fb6d683",
   "metadata": {},
   "outputs": [
    {
     "data": {
      "text/plain": [
       "array([0.80519481, 0.72727273, 0.80519481, 0.84415584, 0.84415584,\n",
       "       0.85714286, 0.79220779, 0.81818182, 0.76315789, 0.86842105])"
      ]
     },
     "execution_count": 136,
     "metadata": {},
     "output_type": "execute_result"
    }
   ],
   "source": [
    "scores = cross_val_score(clf, X_train_imputed_regr, y_train, cv = 10) #Kreuzvalidierung\n",
    "scores"
   ]
  },
  {
   "cell_type": "code",
   "execution_count": 137,
   "id": "d5e5f986",
   "metadata": {},
   "outputs": [
    {
     "data": {
      "text/plain": [
       "0.8125085440874915"
      ]
     },
     "execution_count": 137,
     "metadata": {},
     "output_type": "execute_result"
    }
   ],
   "source": [
    "np.mean(scores) #Generalisierbarkeit des Modells"
   ]
  },
  {
   "cell_type": "code",
   "execution_count": 138,
   "id": "77ec8b6e",
   "metadata": {},
   "outputs": [
    {
     "data": {
      "text/plain": [
       "0.041681474176511295"
      ]
     },
     "execution_count": 138,
     "metadata": {},
     "output_type": "execute_result"
    }
   ],
   "source": [
    "np.std(scores) #Stabilität des Modellgüte"
   ]
  },
  {
   "cell_type": "code",
   "execution_count": 139,
   "id": "471d135c",
   "metadata": {},
   "outputs": [],
   "source": [
    "# Entscheidungsbaum mit Default-Einstellungen und unkorrilierten Daten\n",
    "from sklearn.tree import DecisionTreeClassifier\n",
    "clf = DecisionTreeClassifier(criterion = 'gini', max_depth = 3) #Init des Entscheidungsbaumes\n",
    "clf = clf.fit(X_train_imputed_regr,y_train)  #Training des Entscheidungsbaumes\n",
    "#clf.get_params()"
   ]
  },
  {
   "cell_type": "code",
   "execution_count": 58,
   "id": "5d9fa5d6",
   "metadata": {},
   "outputs": [],
   "source": [
    "y_pred = clf.predict(X_test_imputed_regr) #Prädiktion der Testdaten\n",
    "#y_pred"
   ]
  },
  {
   "cell_type": "code",
   "execution_count": 140,
   "id": "78dd066a",
   "metadata": {},
   "outputs": [
    {
     "data": {
      "text/plain": [
       "0.8238341968911918"
      ]
     },
     "execution_count": 140,
     "metadata": {},
     "output_type": "execute_result"
    }
   ],
   "source": [
    "accuracy_score(y_test, y_pred)"
   ]
  },
  {
   "cell_type": "code",
   "execution_count": 142,
   "id": "6ba5d894",
   "metadata": {},
   "outputs": [
    {
     "data": {
      "text/plain": [
       "array([0.76623377, 0.75324675, 0.80519481, 0.85714286, 0.85714286,\n",
       "       0.81818182, 0.77922078, 0.81818182, 0.80263158, 0.84210526])"
      ]
     },
     "execution_count": 142,
     "metadata": {},
     "output_type": "execute_result"
    }
   ],
   "source": [
    "scores = cross_val_score(clf, X_train_imputed_regr, y_train, cv = 10) #Kreuzvalidierung\n",
    "scores"
   ]
  },
  {
   "cell_type": "code",
   "execution_count": 143,
   "id": "e4392ce4",
   "metadata": {},
   "outputs": [
    {
     "data": {
      "text/plain": [
       "0.8099282296650717"
      ]
     },
     "execution_count": 143,
     "metadata": {},
     "output_type": "execute_result"
    }
   ],
   "source": [
    "np.mean(scores) #Generalisierbarkeit des Modells"
   ]
  },
  {
   "cell_type": "code",
   "execution_count": 144,
   "id": "9b924912",
   "metadata": {},
   "outputs": [
    {
     "data": {
      "text/plain": [
       "0.03430836175358497"
      ]
     },
     "execution_count": 144,
     "metadata": {},
     "output_type": "execute_result"
    }
   ],
   "source": [
    "np.std(scores) #Stabilität des Modellgüte"
   ]
  },
  {
   "cell_type": "code",
   "execution_count": 145,
   "id": "993fbd0e",
   "metadata": {},
   "outputs": [],
   "source": [
    "# Entscheidungsbaum mit Default-Einstellungen und unkorrilierten Daten\n",
    "from sklearn.tree import DecisionTreeClassifier\n",
    "clf = DecisionTreeClassifier(criterion = 'gini', max_depth = 2) #Init des Entscheidungsbaumes\n",
    "clf = clf.fit(X_train_imputed_regr,y_train)  #Training des Entscheidungsbaumes\n",
    "#clf.get_params()"
   ]
  },
  {
   "cell_type": "code",
   "execution_count": 146,
   "id": "4d4c9869",
   "metadata": {},
   "outputs": [],
   "source": [
    "y_pred = clf.predict(X_test_imputed_regr) #Prädiktion der Testdaten\n",
    "#y_pred"
   ]
  },
  {
   "cell_type": "code",
   "execution_count": 147,
   "id": "16d82205",
   "metadata": {},
   "outputs": [
    {
     "data": {
      "text/plain": [
       "0.8341968911917098"
      ]
     },
     "execution_count": 147,
     "metadata": {},
     "output_type": "execute_result"
    }
   ],
   "source": [
    "accuracy_score(y_test, y_pred)"
   ]
  },
  {
   "cell_type": "code",
   "execution_count": 148,
   "id": "61b213c2",
   "metadata": {},
   "outputs": [
    {
     "data": {
      "text/plain": [
       "array([0.85714286, 0.77922078, 0.83116883, 0.85714286, 0.84415584,\n",
       "       0.81818182, 0.84415584, 0.83116883, 0.80263158, 0.85526316])"
      ]
     },
     "execution_count": 148,
     "metadata": {},
     "output_type": "execute_result"
    }
   ],
   "source": [
    "scores = cross_val_score(clf, X_train_imputed_regr, y_train, cv = 10) #Kreuzvalidierung\n",
    "scores"
   ]
  },
  {
   "cell_type": "code",
   "execution_count": 149,
   "id": "cf9fedbc",
   "metadata": {},
   "outputs": [
    {
     "data": {
      "text/plain": [
       "0.8320232399179768"
      ]
     },
     "execution_count": 149,
     "metadata": {},
     "output_type": "execute_result"
    }
   ],
   "source": [
    "np.mean(scores) #Generalisierbarkeit des Modells"
   ]
  },
  {
   "cell_type": "code",
   "execution_count": 150,
   "id": "1a61b047",
   "metadata": {},
   "outputs": [
    {
     "data": {
      "text/plain": [
       "0.024375189993907084"
      ]
     },
     "execution_count": 150,
     "metadata": {},
     "output_type": "execute_result"
    }
   ],
   "source": [
    "np.std(scores) #Stabilität des Modellgüte"
   ]
  },
  {
   "cell_type": "code",
   "execution_count": 151,
   "id": "7e6fb69b",
   "metadata": {},
   "outputs": [],
   "source": [
    "# Entscheidungsbaum mit Default-Einstellungen und unkorrilierten Daten\n",
    "from sklearn.tree import DecisionTreeClassifier\n",
    "clf = DecisionTreeClassifier(criterion = 'gini', max_depth = 1) #Init des Entscheidungsbaumes\n",
    "clf = clf.fit(X_train_imputed_regr,y_train)  #Training des Entscheidungsbaumes\n",
    "#clf.get_params()"
   ]
  },
  {
   "cell_type": "code",
   "execution_count": 152,
   "id": "06ef6fa3",
   "metadata": {},
   "outputs": [],
   "source": [
    "y_pred = clf.predict(X_test_imputed_regr) #Prädiktion der Testdaten\n",
    "#y_pred"
   ]
  },
  {
   "cell_type": "code",
   "execution_count": 153,
   "id": "cde26bf6",
   "metadata": {},
   "outputs": [
    {
     "data": {
      "text/plain": [
       "0.8238341968911918"
      ]
     },
     "execution_count": 153,
     "metadata": {},
     "output_type": "execute_result"
    }
   ],
   "source": [
    "accuracy_score(y_test, y_pred)"
   ]
  },
  {
   "cell_type": "code",
   "execution_count": 155,
   "id": "2edeb738",
   "metadata": {},
   "outputs": [
    {
     "data": {
      "text/plain": [
       "array([0.79220779, 0.75324675, 0.76623377, 0.85714286, 0.84415584,\n",
       "       0.83116883, 0.79220779, 0.87012987, 0.81578947, 0.84210526])"
      ]
     },
     "execution_count": 155,
     "metadata": {},
     "output_type": "execute_result"
    }
   ],
   "source": [
    "scores = cross_val_score(clf, X_train_imputed_regr, y_train, cv = 10) #Kreuzvalidierung\n",
    "scores"
   ]
  },
  {
   "cell_type": "code",
   "execution_count": 156,
   "id": "17dfa2cf",
   "metadata": {},
   "outputs": [
    {
     "data": {
      "text/plain": [
       "0.8164388243335612"
      ]
     },
     "execution_count": 156,
     "metadata": {},
     "output_type": "execute_result"
    }
   ],
   "source": [
    "np.mean(scores) #Generalisierbarkeit des Modells"
   ]
  },
  {
   "cell_type": "code",
   "execution_count": 157,
   "id": "0d8a138b",
   "metadata": {},
   "outputs": [
    {
     "data": {
      "text/plain": [
       "0.03724515036327633"
      ]
     },
     "execution_count": 157,
     "metadata": {},
     "output_type": "execute_result"
    }
   ],
   "source": [
    "np.std(scores) #Stabilität des Modellgüte"
   ]
  },
  {
   "cell_type": "markdown",
   "id": "661aa4bd",
   "metadata": {},
   "source": [
    "# Variation: max_features"
   ]
  },
  {
   "cell_type": "code",
   "execution_count": 158,
   "id": "98c67649",
   "metadata": {},
   "outputs": [],
   "source": [
    "# Entscheidungsbaum mit Default-Einstellungen und unkorrilierten Daten\n",
    "from sklearn.tree import DecisionTreeClassifier\n",
    "clf = DecisionTreeClassifier(criterion = 'gini', max_depth = 2, max_features = 4) #Init des Entscheidungsbaumes\n",
    "clf = clf.fit(X_train_imputed_regr,y_train)  #Training des Entscheidungsbaumes\n",
    "#clf.get_params()"
   ]
  },
  {
   "cell_type": "code",
   "execution_count": 160,
   "id": "6ae993a9",
   "metadata": {},
   "outputs": [],
   "source": [
    "y_pred = clf.predict(X_test_imputed_regr) #Prädiktion der Testdaten\n",
    "#y_pred"
   ]
  },
  {
   "cell_type": "code",
   "execution_count": 161,
   "id": "49dfab33",
   "metadata": {},
   "outputs": [
    {
     "data": {
      "text/plain": [
       "0.8341968911917098"
      ]
     },
     "execution_count": 161,
     "metadata": {},
     "output_type": "execute_result"
    }
   ],
   "source": [
    "accuracy_score(y_test, y_pred)"
   ]
  },
  {
   "cell_type": "code",
   "execution_count": 162,
   "id": "5f6293ea",
   "metadata": {},
   "outputs": [
    {
     "data": {
      "text/plain": [
       "array([0.84415584, 0.75324675, 0.76623377, 0.85714286, 0.84415584,\n",
       "       0.81818182, 0.76623377, 0.83116883, 0.81578947, 0.85526316])"
      ]
     },
     "execution_count": 162,
     "metadata": {},
     "output_type": "execute_result"
    }
   ],
   "source": [
    "scores = cross_val_score(clf, X_train_imputed_regr, y_train, cv = 10) #Kreuzvalidierung\n",
    "scores"
   ]
  },
  {
   "cell_type": "code",
   "execution_count": 163,
   "id": "38e75910",
   "metadata": {},
   "outputs": [
    {
     "data": {
      "text/plain": [
       "0.8151572112098429"
      ]
     },
     "execution_count": 163,
     "metadata": {},
     "output_type": "execute_result"
    }
   ],
   "source": [
    "np.mean(scores) #Generalisierbarkeit des Modells"
   ]
  },
  {
   "cell_type": "code",
   "execution_count": 164,
   "id": "b7e881c1",
   "metadata": {},
   "outputs": [
    {
     "data": {
      "text/plain": [
       "0.03733490935855365"
      ]
     },
     "execution_count": 164,
     "metadata": {},
     "output_type": "execute_result"
    }
   ],
   "source": [
    "np.std(scores) #Stabilität des Modellgüte"
   ]
  },
  {
   "cell_type": "code",
   "execution_count": 165,
   "id": "cb59f4fc",
   "metadata": {},
   "outputs": [],
   "source": [
    "# Entscheidungsbaum mit Default-Einstellungen und unkorrilierten Daten\n",
    "from sklearn.tree import DecisionTreeClassifier\n",
    "clf = DecisionTreeClassifier(criterion = 'gini', max_depth = 2, max_features = 3) #Init des Entscheidungsbaumes\n",
    "clf = clf.fit(X_train_imputed_regr,y_train)  #Training des Entscheidungsbaumes\n",
    "#clf.get_params()"
   ]
  },
  {
   "cell_type": "code",
   "execution_count": 166,
   "id": "90f9f66f",
   "metadata": {},
   "outputs": [],
   "source": [
    "y_pred = clf.predict(X_test_imputed_regr) #Prädiktion der Testdaten\n",
    "#y_pred"
   ]
  },
  {
   "cell_type": "code",
   "execution_count": 167,
   "id": "0e50f413",
   "metadata": {},
   "outputs": [
    {
     "data": {
      "text/plain": [
       "0.8238341968911918"
      ]
     },
     "execution_count": 167,
     "metadata": {},
     "output_type": "execute_result"
    }
   ],
   "source": [
    "accuracy_score(y_test, y_pred)"
   ]
  },
  {
   "cell_type": "code",
   "execution_count": 168,
   "id": "95c4cf61",
   "metadata": {},
   "outputs": [
    {
     "data": {
      "text/plain": [
       "array([0.79220779, 0.77922078, 0.77922078, 0.85714286, 0.84415584,\n",
       "       0.83116883, 0.84415584, 0.83116883, 0.81578947, 0.84210526])"
      ]
     },
     "execution_count": 168,
     "metadata": {},
     "output_type": "execute_result"
    }
   ],
   "source": [
    "scores = cross_val_score(clf, X_train_imputed_regr, y_train, cv = 10) #Kreuzvalidierung\n",
    "scores"
   ]
  },
  {
   "cell_type": "code",
   "execution_count": 169,
   "id": "8f37eeb6",
   "metadata": {},
   "outputs": [
    {
     "data": {
      "text/plain": [
       "0.8216336295283664"
      ]
     },
     "execution_count": 169,
     "metadata": {},
     "output_type": "execute_result"
    }
   ],
   "source": [
    "np.mean(scores) #Generalisierbarkeit des Modells"
   ]
  },
  {
   "cell_type": "code",
   "execution_count": 170,
   "id": "7e9d1b7d",
   "metadata": {},
   "outputs": [
    {
     "data": {
      "text/plain": [
       "0.02715523388836044"
      ]
     },
     "execution_count": 170,
     "metadata": {},
     "output_type": "execute_result"
    }
   ],
   "source": [
    "np.std(scores) #Stabilität des Modellgüte"
   ]
  },
  {
   "cell_type": "code",
   "execution_count": 171,
   "id": "65ca6ae1",
   "metadata": {},
   "outputs": [],
   "source": [
    "# Entscheidungsbaum mit Default-Einstellungen und unkorrilierten Daten\n",
    "from sklearn.tree import DecisionTreeClassifier\n",
    "clf = DecisionTreeClassifier(criterion = 'gini', max_depth = 2, max_features = 2) #Init des Entscheidungsbaumes\n",
    "clf = clf.fit(X_train_imputed_regr,y_train)  #Training des Entscheidungsbaumes\n",
    "#clf.get_params()"
   ]
  },
  {
   "cell_type": "code",
   "execution_count": 172,
   "id": "0657ae59",
   "metadata": {},
   "outputs": [],
   "source": [
    "y_pred = clf.predict(X_test_imputed_regr) #Prädiktion der Testdaten\n",
    "#y_pred"
   ]
  },
  {
   "cell_type": "code",
   "execution_count": 173,
   "id": "978d5724",
   "metadata": {},
   "outputs": [
    {
     "data": {
      "text/plain": [
       "0.7616580310880829"
      ]
     },
     "execution_count": 173,
     "metadata": {},
     "output_type": "execute_result"
    }
   ],
   "source": [
    "accuracy_score(y_test, y_pred)"
   ]
  },
  {
   "cell_type": "code",
   "execution_count": 174,
   "id": "12fc152a",
   "metadata": {},
   "outputs": [
    {
     "data": {
      "text/plain": [
       "array([0.75324675, 0.75324675, 0.80519481, 0.83116883, 0.75324675,\n",
       "       0.81818182, 0.84415584, 0.75324675, 0.80263158, 0.89473684])"
      ]
     },
     "execution_count": 174,
     "metadata": {},
     "output_type": "execute_result"
    }
   ],
   "source": [
    "scores = cross_val_score(clf, X_train_imputed_regr, y_train, cv = 10) #Kreuzvalidierung\n",
    "scores"
   ]
  },
  {
   "cell_type": "code",
   "execution_count": 175,
   "id": "5462f238",
   "metadata": {},
   "outputs": [
    {
     "data": {
      "text/plain": [
       "0.8009056732740945"
      ]
     },
     "execution_count": 175,
     "metadata": {},
     "output_type": "execute_result"
    }
   ],
   "source": [
    "np.mean(scores) #Generalisierbarkeit des Modells"
   ]
  },
  {
   "cell_type": "code",
   "execution_count": 176,
   "id": "c6e42115",
   "metadata": {},
   "outputs": [
    {
     "data": {
      "text/plain": [
       "0.04582145291222723"
      ]
     },
     "execution_count": 176,
     "metadata": {},
     "output_type": "execute_result"
    }
   ],
   "source": [
    "np.std(scores) #Stabilität des Modellgüte"
   ]
  },
  {
   "cell_type": "markdown",
   "id": "cd622925",
   "metadata": {},
   "source": [
    "# Criterion: Entropy"
   ]
  },
  {
   "cell_type": "code",
   "execution_count": 226,
   "id": "717744a8",
   "metadata": {},
   "outputs": [],
   "source": [
    "# Entscheidungsbaum mit Default-Einstellungen und unkorrilierten Daten\n",
    "from sklearn.tree import DecisionTreeClassifier\n",
    "clf = DecisionTreeClassifier(criterion = 'entropy', max_depth = 4) #Init des Entscheidungsbaumes\n",
    "clf = clf.fit(X_train_imputed_regr,y_train)  #Training des Entscheidungsbaumes\n",
    "#clf.get_params()"
   ]
  },
  {
   "cell_type": "code",
   "execution_count": 227,
   "id": "6962a6c9",
   "metadata": {},
   "outputs": [],
   "source": [
    "y_pred = clf.predict(X_test_imputed_regr) #Prädiktion der Testdaten\n",
    "#y_pred"
   ]
  },
  {
   "cell_type": "code",
   "execution_count": 228,
   "id": "f3389ce7",
   "metadata": {},
   "outputs": [
    {
     "data": {
      "text/plain": [
       "0.8238341968911918"
      ]
     },
     "execution_count": 228,
     "metadata": {},
     "output_type": "execute_result"
    }
   ],
   "source": [
    "accuracy_score(y_test, y_pred)"
   ]
  },
  {
   "cell_type": "code",
   "execution_count": 229,
   "id": "56f1c5ba",
   "metadata": {},
   "outputs": [
    {
     "data": {
      "text/plain": [
       "array([0.875     , 0.75      , 1.        , 0.625     , 0.75      ,\n",
       "       0.75      , 0.875     , 0.875     , 0.875     , 0.875     ,\n",
       "       0.875     , 0.875     , 0.875     , 0.5       , 1.        ,\n",
       "       1.        , 0.75      , 0.5       , 0.75      , 0.875     ,\n",
       "       0.625     , 0.75      , 0.875     , 0.875     , 0.75      ,\n",
       "       0.875     , 0.625     , 0.875     , 0.625     , 1.        ,\n",
       "       0.875     , 0.75      , 1.        , 0.75      , 0.625     ,\n",
       "       0.875     , 1.        , 0.75      , 1.        , 0.875     ,\n",
       "       0.875     , 0.875     , 0.625     , 0.875     , 0.75      ,\n",
       "       1.        , 1.        , 1.        , 0.875     , 0.875     ,\n",
       "       1.        , 0.5       , 0.875     , 0.875     , 0.875     ,\n",
       "       0.875     , 0.625     , 0.875     , 0.625     , 0.75      ,\n",
       "       1.        , 0.875     , 0.875     , 0.875     , 1.        ,\n",
       "       0.625     , 0.75      , 0.75      , 0.85714286, 0.85714286,\n",
       "       1.        , 1.        , 0.71428571, 1.        , 0.85714286,\n",
       "       0.71428571, 1.        , 1.        , 0.57142857, 0.71428571,\n",
       "       1.        , 0.57142857, 0.57142857, 1.        , 0.85714286,\n",
       "       1.        , 0.85714286, 0.85714286, 1.        , 0.57142857,\n",
       "       1.        , 0.85714286, 0.85714286, 0.85714286, 1.        ,\n",
       "       1.        , 1.        , 0.85714286, 0.71428571, 0.85714286])"
      ]
     },
     "execution_count": 229,
     "metadata": {},
     "output_type": "execute_result"
    }
   ],
   "source": [
    "scores = cross_val_score(clf, X_train_imputed_regr, y_train, cv = 100) #Kreuzvalidierung\n",
    "scores"
   ]
  },
  {
   "cell_type": "code",
   "execution_count": 230,
   "id": "ba5557d2",
   "metadata": {},
   "outputs": [
    {
     "data": {
      "text/plain": [
       "0.8357142857142857"
      ]
     },
     "execution_count": 230,
     "metadata": {},
     "output_type": "execute_result"
    }
   ],
   "source": [
    "np.mean(scores) #Generalisierbarkeit des Modells"
   ]
  },
  {
   "cell_type": "code",
   "execution_count": 231,
   "id": "cf1aa2e2",
   "metadata": {},
   "outputs": [
    {
     "data": {
      "text/plain": [
       "0.13894188331376364"
      ]
     },
     "execution_count": 231,
     "metadata": {},
     "output_type": "execute_result"
    }
   ],
   "source": [
    "np.std(scores) #Stabilität des Modellgüte"
   ]
  },
  {
   "cell_type": "code",
   "execution_count": 220,
   "id": "b451e140",
   "metadata": {},
   "outputs": [],
   "source": [
    "# Entscheidungsbaum mit Default-Einstellungen und unkorrilierten Daten\n",
    "from sklearn.tree import DecisionTreeClassifier\n",
    "clf = DecisionTreeClassifier(criterion = 'entropy', max_depth = 3, max_features = 4) #Init des Entscheidungsbaumes\n",
    "clf = clf.fit(X_train_imputed_regr,y_train)  #Training des Entscheidungsbaumes\n",
    "#clf.get_params()"
   ]
  },
  {
   "cell_type": "code",
   "execution_count": 221,
   "id": "b457a699",
   "metadata": {},
   "outputs": [],
   "source": [
    "y_pred = clf.predict(X_test_imputed_regr) #Prädiktion der Testdaten\n",
    "#y_pred"
   ]
  },
  {
   "cell_type": "code",
   "execution_count": 222,
   "id": "55984d26",
   "metadata": {},
   "outputs": [
    {
     "data": {
      "text/plain": [
       "0.8393782383419689"
      ]
     },
     "execution_count": 222,
     "metadata": {},
     "output_type": "execute_result"
    }
   ],
   "source": [
    "accuracy_score(y_test, y_pred)"
   ]
  },
  {
   "cell_type": "code",
   "execution_count": 223,
   "id": "edd333e8",
   "metadata": {},
   "outputs": [
    {
     "data": {
      "text/plain": [
       "array([0.875     , 0.75      , 1.        , 0.75      , 0.625     ,\n",
       "       0.75      , 0.875     , 0.875     , 0.75      , 0.75      ,\n",
       "       1.        , 0.875     , 0.625     , 0.5       , 1.        ,\n",
       "       1.        , 0.75      , 0.5       , 0.75      , 0.875     ,\n",
       "       0.625     , 0.875     , 0.75      , 0.875     , 0.875     ,\n",
       "       0.75      , 0.625     , 0.875     , 0.625     , 1.        ,\n",
       "       0.875     , 0.75      , 1.        , 0.75      , 0.625     ,\n",
       "       0.75      , 1.        , 0.875     , 1.        , 0.875     ,\n",
       "       0.875     , 0.875     , 0.75      , 0.625     , 0.875     ,\n",
       "       0.875     , 1.        , 0.875     , 0.875     , 0.75      ,\n",
       "       1.        , 0.625     , 1.        , 0.875     , 0.875     ,\n",
       "       0.875     , 0.625     , 0.875     , 0.75      , 0.75      ,\n",
       "       0.875     , 0.875     , 0.75      , 0.875     , 0.875     ,\n",
       "       0.5       , 0.875     , 0.625     , 0.85714286, 1.        ,\n",
       "       1.        , 1.        , 0.71428571, 0.85714286, 0.85714286,\n",
       "       0.85714286, 0.85714286, 1.        , 0.57142857, 0.71428571,\n",
       "       0.85714286, 0.57142857, 0.28571429, 1.        , 0.85714286,\n",
       "       0.85714286, 0.57142857, 0.85714286, 1.        , 0.57142857,\n",
       "       1.        , 0.85714286, 0.85714286, 0.85714286, 1.        ,\n",
       "       0.85714286, 1.        , 1.        , 0.71428571, 0.85714286])"
      ]
     },
     "execution_count": 223,
     "metadata": {},
     "output_type": "execute_result"
    }
   ],
   "source": [
    "scores = cross_val_score(clf, X_train_imputed_regr, y_train, cv = 100) #Kreuzvalidierung\n",
    "scores"
   ]
  },
  {
   "cell_type": "code",
   "execution_count": 224,
   "id": "90e3cec1",
   "metadata": {},
   "outputs": [
    {
     "data": {
      "text/plain": [
       "0.818392857142857"
      ]
     },
     "execution_count": 224,
     "metadata": {},
     "output_type": "execute_result"
    }
   ],
   "source": [
    "np.mean(scores) #Generalisierbarkeit des Modells"
   ]
  },
  {
   "cell_type": "code",
   "execution_count": 225,
   "id": "1bd6f0f2",
   "metadata": {},
   "outputs": [
    {
     "data": {
      "text/plain": [
       "0.14553418053530118"
      ]
     },
     "execution_count": 225,
     "metadata": {},
     "output_type": "execute_result"
    }
   ],
   "source": [
    "np.std(scores) #Stabilität des Modellgüte"
   ]
  },
  {
   "cell_type": "code",
   "execution_count": 189,
   "id": "faee5e0b",
   "metadata": {},
   "outputs": [],
   "source": [
    "# Entscheidungsbaum mit Default-Einstellungen und unkorrilierten Daten\n",
    "from sklearn.tree import DecisionTreeClassifier\n",
    "clf = DecisionTreeClassifier(criterion = 'entropy', max_depth = 2, max_features = 3) #Init des Entscheidungsbaumes\n",
    "clf = clf.fit(X_train_imputed_regr,y_train)  #Training des Entscheidungsbaumes\n",
    "#clf.get_params()"
   ]
  },
  {
   "cell_type": "code",
   "execution_count": 190,
   "id": "8a5b97d6",
   "metadata": {},
   "outputs": [],
   "source": [
    "y_pred = clf.predict(X_test_imputed_regr) #Prädiktion der Testdaten\n",
    "#y_pred"
   ]
  },
  {
   "cell_type": "code",
   "execution_count": 191,
   "id": "98c20849",
   "metadata": {},
   "outputs": [
    {
     "data": {
      "text/plain": [
       "0.8341968911917098"
      ]
     },
     "execution_count": 191,
     "metadata": {},
     "output_type": "execute_result"
    }
   ],
   "source": [
    "accuracy_score(y_test, y_pred)"
   ]
  },
  {
   "cell_type": "code",
   "execution_count": 217,
   "id": "2b71365d",
   "metadata": {},
   "outputs": [
    {
     "data": {
      "text/plain": [
       "array([0.875     , 0.75      , 1.        , 0.75      , 0.75      ,\n",
       "       0.75      , 0.875     , 0.875     , 0.875     , 0.875     ,\n",
       "       0.75      , 0.875     , 0.625     , 0.375     , 1.        ,\n",
       "       0.75      , 0.625     , 0.5       , 0.875     , 0.75      ,\n",
       "       0.75      , 0.875     , 0.75      , 0.75      , 0.625     ,\n",
       "       0.75      , 0.75      , 1.        , 0.75      , 0.875     ,\n",
       "       0.875     , 0.75      , 1.        , 0.75      , 0.75      ,\n",
       "       0.75      , 0.875     , 0.875     , 0.875     , 0.875     ,\n",
       "       0.875     , 0.875     , 0.75      , 0.5       , 0.5       ,\n",
       "       0.75      , 1.        , 0.875     , 0.75      , 0.75      ,\n",
       "       1.        , 0.5       , 1.        , 0.75      , 0.875     ,\n",
       "       0.625     , 0.75      , 0.875     , 0.75      , 0.75      ,\n",
       "       0.875     , 0.875     , 0.875     , 0.875     , 0.75      ,\n",
       "       0.375     , 0.875     , 0.625     , 0.85714286, 1.        ,\n",
       "       1.        , 0.85714286, 0.71428571, 0.85714286, 0.85714286,\n",
       "       0.85714286, 0.85714286, 1.        , 0.57142857, 0.71428571,\n",
       "       0.85714286, 0.57142857, 0.28571429, 1.        , 0.71428571,\n",
       "       1.        , 0.42857143, 0.71428571, 1.        , 0.57142857,\n",
       "       0.85714286, 0.85714286, 0.85714286, 1.        , 1.        ,\n",
       "       1.        , 1.        , 0.71428571, 0.85714286, 0.71428571])"
      ]
     },
     "execution_count": 217,
     "metadata": {},
     "output_type": "execute_result"
    }
   ],
   "source": [
    "scores = cross_val_score(clf, X_train_imputed_regr, y_train, cv = 100) #Kreuzvalidierung\n",
    "scores"
   ]
  },
  {
   "cell_type": "code",
   "execution_count": 218,
   "id": "79bdf79b",
   "metadata": {},
   "outputs": [
    {
     "data": {
      "text/plain": [
       "0.7951785714285714"
      ]
     },
     "execution_count": 218,
     "metadata": {},
     "output_type": "execute_result"
    }
   ],
   "source": [
    "np.mean(scores) #Generalisierbarkeit des Modells"
   ]
  },
  {
   "cell_type": "code",
   "execution_count": 219,
   "id": "32300614",
   "metadata": {},
   "outputs": [
    {
     "data": {
      "text/plain": [
       "0.1546361554140056"
      ]
     },
     "execution_count": 219,
     "metadata": {},
     "output_type": "execute_result"
    }
   ],
   "source": [
    "np.std(scores) #Stabilität des Modellgüte"
   ]
  },
  {
   "cell_type": "markdown",
   "id": "4acdf4a6",
   "metadata": {},
   "source": [
    "# Finales Modell"
   ]
  },
  {
   "cell_type": "code",
   "execution_count": 62,
   "id": "e3ff081a",
   "metadata": {},
   "outputs": [],
   "source": [
    "# Entscheidungsbaum mit Default-Einstellungen und unkorrilierten Daten\n",
    "from sklearn.tree import DecisionTreeClassifier\n",
    "clf = DecisionTreeClassifier(criterion = 'entropy', max_depth = 3, max_features = 4) #Init des Entscheidungsbaumes\n",
    "clf = clf.fit(X_train_imputed_regr,y_train)  #Training des Entscheidungsbaumes\n",
    "#clf.get_params()"
   ]
  },
  {
   "cell_type": "code",
   "execution_count": 63,
   "id": "09c52b16",
   "metadata": {},
   "outputs": [],
   "source": [
    "y_pred = clf.predict(X_test_imputed_regr) #Prädiktion der Testdaten\n",
    "#y_pred"
   ]
  },
  {
   "cell_type": "code",
   "execution_count": 64,
   "id": "dd523f04",
   "metadata": {},
   "outputs": [
    {
     "data": {
      "text/plain": [
       "0.8393782383419689"
      ]
     },
     "execution_count": 64,
     "metadata": {},
     "output_type": "execute_result"
    }
   ],
   "source": [
    "accuracy_score(y_test, y_pred)"
   ]
  },
  {
   "cell_type": "code",
   "execution_count": 65,
   "id": "0aff7df7",
   "metadata": {},
   "outputs": [
    {
     "data": {
      "text/plain": [
       "array([0.625     , 0.625     , 1.        , 0.75      , 0.75      ,\n",
       "       0.75      , 0.875     , 0.875     , 0.75      , 0.875     ,\n",
       "       0.75      , 0.875     , 0.625     , 0.375     , 1.        ,\n",
       "       1.        , 0.625     , 0.75      , 0.875     , 0.875     ,\n",
       "       0.625     , 0.75      , 0.75      , 0.875     , 0.875     ,\n",
       "       0.875     , 0.625     , 0.875     , 0.625     , 1.        ,\n",
       "       0.875     , 0.75      , 1.        , 0.75      , 0.625     ,\n",
       "       0.875     , 1.        , 0.875     , 1.        , 0.875     ,\n",
       "       0.875     , 1.        , 0.625     , 0.875     , 0.75      ,\n",
       "       0.875     , 1.        , 1.        , 0.75      , 0.625     ,\n",
       "       1.        , 0.625     , 0.875     , 1.        , 0.875     ,\n",
       "       0.75      , 0.75      , 0.875     , 0.75      , 0.75      ,\n",
       "       0.875     , 0.875     , 0.75      , 0.875     , 0.875     ,\n",
       "       0.5       , 0.875     , 0.625     , 0.85714286, 0.85714286,\n",
       "       1.        , 1.        , 0.71428571, 0.85714286, 1.        ,\n",
       "       0.71428571, 0.85714286, 1.        , 0.57142857, 0.71428571,\n",
       "       0.85714286, 0.57142857, 0.42857143, 1.        , 0.85714286,\n",
       "       0.85714286, 0.57142857, 0.71428571, 1.        , 0.71428571,\n",
       "       1.        , 0.85714286, 0.85714286, 0.85714286, 0.85714286,\n",
       "       1.        , 1.        , 0.71428571, 0.71428571, 0.71428571])"
      ]
     },
     "execution_count": 65,
     "metadata": {},
     "output_type": "execute_result"
    }
   ],
   "source": [
    "scores = cross_val_score(clf, X_train_imputed_regr, y_train, cv = 100) #Kreuzvalidierung\n",
    "scores"
   ]
  },
  {
   "cell_type": "code",
   "execution_count": 66,
   "id": "5ffb7219",
   "metadata": {},
   "outputs": [
    {
     "data": {
      "text/plain": [
       "0.8128571428571426"
      ]
     },
     "execution_count": 66,
     "metadata": {},
     "output_type": "execute_result"
    }
   ],
   "source": [
    "np.mean(scores) #Generalisierbarkeit des Modells"
   ]
  },
  {
   "cell_type": "code",
   "execution_count": 67,
   "id": "58949385",
   "metadata": {},
   "outputs": [
    {
     "data": {
      "text/plain": [
       "0.14262212811682284"
      ]
     },
     "execution_count": 67,
     "metadata": {},
     "output_type": "execute_result"
    }
   ],
   "source": [
    "np.std(scores) #Stabilität des Modellgüte"
   ]
  },
  {
   "cell_type": "code",
   "execution_count": 68,
   "id": "252583bc",
   "metadata": {},
   "outputs": [
    {
     "name": "stdout",
     "output_type": "stream",
     "text": [
      "              precision    recall  f1-score   support\n",
      "\n",
      "           0       0.81      0.90      0.85       101\n",
      "           1       0.88      0.77      0.82        92\n",
      "\n",
      "    accuracy                           0.84       193\n",
      "   macro avg       0.84      0.84      0.84       193\n",
      "weighted avg       0.84      0.84      0.84       193\n",
      "\n"
     ]
    }
   ],
   "source": [
    "class_report_train = classification_report(y_test, y_pred)\n",
    "print(class_report_train)\n"
   ]
  },
  {
   "cell_type": "code",
   "execution_count": 69,
   "id": "4ddef551",
   "metadata": {},
   "outputs": [
    {
     "data": {
      "image/png": "[encoded data removed]",
      "text/plain": [
       "<Figure size 600x400 with 2 Axes>"
      ]
     },
     "metadata": {},
     "output_type": "display_data"
    }
   ],
   "source": [
    "# Plot confusion matrix for test data\n",
    "from sklearn.metrics import confusion_matrix\n",
    "import matplotlib.pyplot as plt\n",
    "import seaborn as sns\n",
    "\n",
    "conf_matrix_test = confusion_matrix(y_test, y_pred)\n",
    "\n",
    "plt.figure(figsize=(6, 4))\n",
    "sns.heatmap(conf_matrix_test, annot=True, fmt=\"d\", cmap='Blues', xticklabels=['Severity given', 'Severity not given'], yticklabels=['Severity given', 'Severity not given'])\n",
    "plt.ylabel('True Label')\n",
    "plt.xlabel('Predicted Label')\n",
    "plt.title('Confusion Matrix on Test Data')\n",
    "plt.show()"
   ]
  },
  {
   "cell_type": "markdown",
   "id": "772e1fff",
   "metadata": {},
   "source": [
    "# Anwendung des finalen Modells auf den Autismusdatensatz"
   ]
  },
  {
   "cell_type": "markdown",
   "id": "de7b8929",
   "metadata": {},
   "source": [
    "## Datenimport: Autism"
   ]
  },
  {
   "cell_type": "code",
   "execution_count": 23,
   "id": "5dbe6276",
   "metadata": {},
   "outputs": [],
   "source": [
    "import pandas as pd\n",
    "pfad = 'C:/Users/benja/Documents/Persoenlich/Ausbildung/TU/Digitale_Kompetenzen/03_Anwendungsfelder_der_Digitalisierung/Machine_Learning/UE/1_Exercise/Datensaetze/autism_preproc/'\n",
    "\n",
    "autism_X_train = pd.read_csv(pfad + 'preprocessed_dataset_train.csv')\n",
    "autism_X_test = pd.read_csv(pfad + 'preprocessed_dataset_test.csv')"
   ]
  },
  {
   "cell_type": "code",
   "execution_count": 24,
   "id": "777080f8",
   "metadata": {},
   "outputs": [
    {
     "name": "stdout",
     "output_type": "stream",
     "text": [
      "<class 'pandas.core.frame.DataFrame'>\n",
      "RangeIndex: 490 entries, 0 to 489\n",
      "Data columns (total 64 columns):\n",
      " #   Column                               Non-Null Count  Dtype  \n",
      "---  ------                               --------------  -----  \n",
      " 0   A1_Score                             490 non-null    int64  \n",
      " 1   A2_Score                             490 non-null    int64  \n",
      " 2   A3_Score                             490 non-null    int64  \n",
      " 3   A4_Score                             490 non-null    int64  \n",
      " 4   A5_Score                             490 non-null    int64  \n",
      " 5   A6_Score                             490 non-null    int64  \n",
      " 6   A7_Score                             490 non-null    int64  \n",
      " 7   A8_Score                             490 non-null    int64  \n",
      " 8   A9_Score                             490 non-null    int64  \n",
      " 9   A10_Score                            490 non-null    int64  \n",
      " 10  age                                  490 non-null    float64\n",
      " 11  jundice                              490 non-null    int64  \n",
      " 12  austim                               490 non-null    int64  \n",
      " 13  used_app_before                      490 non-null    int64  \n",
      " 14  result                               490 non-null    float64\n",
      " 15  Class/ASD                            490 non-null    int64  \n",
      " 16  relation_Health care professional    490 non-null    int64  \n",
      " 17  relation_Others                      490 non-null    int64  \n",
      " 18  relation_Parent                      490 non-null    int64  \n",
      " 19  relation_Relative                    490 non-null    int64  \n",
      " 20  relation_Self                        490 non-null    int64  \n",
      " 21  ethnicity_Asian                      490 non-null    int64  \n",
      " 22  ethnicity_Black                      490 non-null    int64  \n",
      " 23  ethnicity_Hispanic                   490 non-null    int64  \n",
      " 24  ethnicity_Latino                     490 non-null    int64  \n",
      " 25  ethnicity_Middle Eastern             490 non-null    int64  \n",
      " 26  ethnicity_Others                     490 non-null    int64  \n",
      " 27  ethnicity_Pasifika                   490 non-null    int64  \n",
      " 28  ethnicity_South Asian                490 non-null    int64  \n",
      " 29  ethnicity_Turkish                    490 non-null    int64  \n",
      " 30  ethnicity_White-European             490 non-null    int64  \n",
      " 31  ethnicity_others                     490 non-null    int64  \n",
      " 32  gender_f                             490 non-null    int64  \n",
      " 33  gender_m                             490 non-null    int64  \n",
      " 34  country_of_res_Afghanistan           490 non-null    int64  \n",
      " 35  country_of_res_Argentina             490 non-null    int64  \n",
      " 36  country_of_res_Armenia               490 non-null    int64  \n",
      " 37  country_of_res_Australia             490 non-null    int64  \n",
      " 38  country_of_res_Austria               490 non-null    int64  \n",
      " 39  country_of_res_Belgium               490 non-null    int64  \n",
      " 40  country_of_res_Brazil                490 non-null    int64  \n",
      " 41  country_of_res_Canada                490 non-null    int64  \n",
      " 42  country_of_res_Ethiopia              490 non-null    int64  \n",
      " 43  country_of_res_France                490 non-null    int64  \n",
      " 44  country_of_res_India                 490 non-null    int64  \n",
      " 45  country_of_res_Iraq                  490 non-null    int64  \n",
      " 46  country_of_res_Italy                 490 non-null    int64  \n",
      " 47  country_of_res_Jordan                490 non-null    int64  \n",
      " 48  country_of_res_Kazakhstan            490 non-null    int64  \n",
      " 49  country_of_res_Malaysia              490 non-null    int64  \n",
      " 50  country_of_res_Mexico                490 non-null    int64  \n",
      " 51  country_of_res_Netherlands           490 non-null    int64  \n",
      " 52  country_of_res_New Zealand           490 non-null    int64  \n",
      " 53  country_of_res_Nicaragua             490 non-null    int64  \n",
      " 54  country_of_res_Philippines           490 non-null    int64  \n",
      " 55  country_of_res_Russia                490 non-null    int64  \n",
      " 56  country_of_res_South Africa          490 non-null    int64  \n",
      " 57  country_of_res_Sri Lanka             490 non-null    int64  \n",
      " 58  country_of_res_Sweden                490 non-null    int64  \n",
      " 59  country_of_res_Turkey                490 non-null    int64  \n",
      " 60  country_of_res_United Arab Emirates  490 non-null    int64  \n",
      " 61  country_of_res_United Kingdom        490 non-null    int64  \n",
      " 62  country_of_res_United States         490 non-null    int64  \n",
      " 63  country_of_res_Viet Nam              490 non-null    int64  \n",
      "dtypes: float64(2), int64(62)\n",
      "memory usage: 245.1 KB\n",
      "None\n"
     ]
    }
   ],
   "source": [
    "data_info = autism_X_train.info()\n",
    "print(data_info)"
   ]
  },
  {
   "cell_type": "code",
   "execution_count": 26,
   "id": "caaee9e4",
   "metadata": {},
   "outputs": [
    {
     "ename": "KeyError",
     "evalue": "'Class/ASD'",
     "output_type": "error",
     "traceback": [
      "\u001b[1;31m---------------------------------------------------------------------------\u001b[0m",
      "\u001b[1;31mKeyError\u001b[0m                                  Traceback (most recent call last)",
      "File \u001b[1;32m~\\anaconda3\\Lib\\site-packages\\pandas\\core\\indexes\\base.py:3653\u001b[0m, in \u001b[0;36mIndex.get_loc\u001b[1;34m(self, key)\u001b[0m\n\u001b[0;32m   3652\u001b[0m \u001b[38;5;28;01mtry\u001b[39;00m:\n\u001b[1;32m-> 3653\u001b[0m     \u001b[38;5;28;01mreturn\u001b[39;00m \u001b[38;5;28mself\u001b[39m\u001b[38;5;241m.\u001b[39m_engine\u001b[38;5;241m.\u001b[39mget_loc(casted_key)\n\u001b[0;32m   3654\u001b[0m \u001b[38;5;28;01mexcept\u001b[39;00m \u001b[38;5;167;01mKeyError\u001b[39;00m \u001b[38;5;28;01mas\u001b[39;00m err:\n",
      "File \u001b[1;32m~\\anaconda3\\Lib\\site-packages\\pandas\\_libs\\index.pyx:147\u001b[0m, in \u001b[0;36mpandas._libs.index.IndexEngine.get_loc\u001b[1;34m()\u001b[0m\n",
      "File \u001b[1;32m~\\anaconda3\\Lib\\site-packages\\pandas\\_libs\\index.pyx:176\u001b[0m, in \u001b[0;36mpandas._libs.index.IndexEngine.get_loc\u001b[1;34m()\u001b[0m\n",
      "File \u001b[1;32mpandas\\_libs\\hashtable_class_helper.pxi:7080\u001b[0m, in \u001b[0;36mpandas._libs.hashtable.PyObjectHashTable.get_item\u001b[1;34m()\u001b[0m\n",
      "File \u001b[1;32mpandas\\_libs\\hashtable_class_helper.pxi:7088\u001b[0m, in \u001b[0;36mpandas._libs.hashtable.PyObjectHashTable.get_item\u001b[1;34m()\u001b[0m\n",
      "\u001b[1;31mKeyError\u001b[0m: 'Class/ASD'",
      "\nThe above exception was the direct cause of the following exception:\n",
      "\u001b[1;31mKeyError\u001b[0m                                  Traceback (most recent call last)",
      "Cell \u001b[1;32mIn[26], line 1\u001b[0m\n\u001b[1;32m----> 1\u001b[0m autism_y_train \u001b[38;5;241m=\u001b[39m autism_X_train\u001b[38;5;241m.\u001b[39mpop(\u001b[38;5;124m'\u001b[39m\u001b[38;5;124mClass/ASD\u001b[39m\u001b[38;5;124m'\u001b[39m)\n\u001b[0;32m      2\u001b[0m \u001b[38;5;28mprint\u001b[39m(autism_y_train)\n",
      "File \u001b[1;32m~\\anaconda3\\Lib\\site-packages\\pandas\\core\\frame.py:5543\u001b[0m, in \u001b[0;36mDataFrame.pop\u001b[1;34m(self, item)\u001b[0m\n\u001b[0;32m   5502\u001b[0m \u001b[38;5;28;01mdef\u001b[39;00m \u001b[38;5;21mpop\u001b[39m(\u001b[38;5;28mself\u001b[39m, item: Hashable) \u001b[38;5;241m-\u001b[39m\u001b[38;5;241m>\u001b[39m Series:\n\u001b[0;32m   5503\u001b[0m \u001b[38;5;250m    \u001b[39m\u001b[38;5;124;03m\"\"\"\u001b[39;00m\n\u001b[0;32m   5504\u001b[0m \u001b[38;5;124;03m    Return item and drop from frame. Raise KeyError if not found.\u001b[39;00m\n\u001b[0;32m   5505\u001b[0m \n\u001b[1;32m   (...)\u001b[0m\n\u001b[0;32m   5541\u001b[0m \u001b[38;5;124;03m    3  monkey        NaN\u001b[39;00m\n\u001b[0;32m   5542\u001b[0m \u001b[38;5;124;03m    \"\"\"\u001b[39;00m\n\u001b[1;32m-> 5543\u001b[0m     \u001b[38;5;28;01mreturn\u001b[39;00m \u001b[38;5;28msuper\u001b[39m()\u001b[38;5;241m.\u001b[39mpop(item\u001b[38;5;241m=\u001b[39mitem)\n",
      "File \u001b[1;32m~\\anaconda3\\Lib\\site-packages\\pandas\\core\\generic.py:853\u001b[0m, in \u001b[0;36mNDFrame.pop\u001b[1;34m(self, item)\u001b[0m\n\u001b[0;32m    852\u001b[0m \u001b[38;5;28;01mdef\u001b[39;00m \u001b[38;5;21mpop\u001b[39m(\u001b[38;5;28mself\u001b[39m, item: Hashable) \u001b[38;5;241m-\u001b[39m\u001b[38;5;241m>\u001b[39m Series \u001b[38;5;241m|\u001b[39m Any:\n\u001b[1;32m--> 853\u001b[0m     result \u001b[38;5;241m=\u001b[39m \u001b[38;5;28mself\u001b[39m[item]\n\u001b[0;32m    854\u001b[0m     \u001b[38;5;28;01mdel\u001b[39;00m \u001b[38;5;28mself\u001b[39m[item]\n\u001b[0;32m    856\u001b[0m     \u001b[38;5;28;01mreturn\u001b[39;00m result\n",
      "File \u001b[1;32m~\\anaconda3\\Lib\\site-packages\\pandas\\core\\frame.py:3761\u001b[0m, in \u001b[0;36mDataFrame.__getitem__\u001b[1;34m(self, key)\u001b[0m\n\u001b[0;32m   3759\u001b[0m \u001b[38;5;28;01mif\u001b[39;00m \u001b[38;5;28mself\u001b[39m\u001b[38;5;241m.\u001b[39mcolumns\u001b[38;5;241m.\u001b[39mnlevels \u001b[38;5;241m>\u001b[39m \u001b[38;5;241m1\u001b[39m:\n\u001b[0;32m   3760\u001b[0m     \u001b[38;5;28;01mreturn\u001b[39;00m \u001b[38;5;28mself\u001b[39m\u001b[38;5;241m.\u001b[39m_getitem_multilevel(key)\n\u001b[1;32m-> 3761\u001b[0m indexer \u001b[38;5;241m=\u001b[39m \u001b[38;5;28mself\u001b[39m\u001b[38;5;241m.\u001b[39mcolumns\u001b[38;5;241m.\u001b[39mget_loc(key)\n\u001b[0;32m   3762\u001b[0m \u001b[38;5;28;01mif\u001b[39;00m is_integer(indexer):\n\u001b[0;32m   3763\u001b[0m     indexer \u001b[38;5;241m=\u001b[39m [indexer]\n",
      "File \u001b[1;32m~\\anaconda3\\Lib\\site-packages\\pandas\\core\\indexes\\base.py:3655\u001b[0m, in \u001b[0;36mIndex.get_loc\u001b[1;34m(self, key)\u001b[0m\n\u001b[0;32m   3653\u001b[0m     \u001b[38;5;28;01mreturn\u001b[39;00m \u001b[38;5;28mself\u001b[39m\u001b[38;5;241m.\u001b[39m_engine\u001b[38;5;241m.\u001b[39mget_loc(casted_key)\n\u001b[0;32m   3654\u001b[0m \u001b[38;5;28;01mexcept\u001b[39;00m \u001b[38;5;167;01mKeyError\u001b[39;00m \u001b[38;5;28;01mas\u001b[39;00m err:\n\u001b[1;32m-> 3655\u001b[0m     \u001b[38;5;28;01mraise\u001b[39;00m \u001b[38;5;167;01mKeyError\u001b[39;00m(key) \u001b[38;5;28;01mfrom\u001b[39;00m \u001b[38;5;21;01merr\u001b[39;00m\n\u001b[0;32m   3656\u001b[0m \u001b[38;5;28;01mexcept\u001b[39;00m \u001b[38;5;167;01mTypeError\u001b[39;00m:\n\u001b[0;32m   3657\u001b[0m     \u001b[38;5;66;03m# If we have a listlike key, _check_indexing_error will raise\u001b[39;00m\n\u001b[0;32m   3658\u001b[0m     \u001b[38;5;66;03m#  InvalidIndexError. Otherwise we fall through and re-raise\u001b[39;00m\n\u001b[0;32m   3659\u001b[0m     \u001b[38;5;66;03m#  the TypeError.\u001b[39;00m\n\u001b[0;32m   3660\u001b[0m     \u001b[38;5;28mself\u001b[39m\u001b[38;5;241m.\u001b[39m_check_indexing_error(key)\n",
      "\u001b[1;31mKeyError\u001b[0m: 'Class/ASD'"
     ]
    }
   ],
   "source": [
    "autism_y_train = autism_X_train.pop('Class/ASD')\n",
    "print(autism_y_train)"
   ]
  },
  {
   "cell_type": "code",
   "execution_count": 27,
   "id": "2e4d1f9f",
   "metadata": {},
   "outputs": [
    {
     "name": "stdout",
     "output_type": "stream",
     "text": [
      "0      0\n",
      "1      0\n",
      "2      1\n",
      "3      0\n",
      "4      0\n",
      "      ..\n",
      "100    0\n",
      "101    0\n",
      "102    0\n",
      "103    0\n",
      "104    1\n",
      "Name: Class/ASD, Length: 105, dtype: int64\n"
     ]
    }
   ],
   "source": [
    "autism_y_test = autism_X_test.pop('Class/ASD')\n",
    "print(autism_y_test)"
   ]
  },
  {
   "cell_type": "code",
   "execution_count": 17,
   "id": "c4144840",
   "metadata": {},
   "outputs": [
    {
     "name": "stdout",
     "output_type": "stream",
     "text": [
      "<class 'pandas.core.frame.DataFrame'>\n",
      "RangeIndex: 490 entries, 0 to 489\n",
      "Data columns (total 63 columns):\n",
      " #   Column                               Non-Null Count  Dtype  \n",
      "---  ------                               --------------  -----  \n",
      " 0   A1_Score                             490 non-null    int64  \n",
      " 1   A2_Score                             490 non-null    int64  \n",
      " 2   A3_Score                             490 non-null    int64  \n",
      " 3   A4_Score                             490 non-null    int64  \n",
      " 4   A5_Score                             490 non-null    int64  \n",
      " 5   A6_Score                             490 non-null    int64  \n",
      " 6   A7_Score                             490 non-null    int64  \n",
      " 7   A8_Score                             490 non-null    int64  \n",
      " 8   A9_Score                             490 non-null    int64  \n",
      " 9   A10_Score                            490 non-null    int64  \n",
      " 10  age                                  490 non-null    float64\n",
      " 11  jundice                              490 non-null    int64  \n",
      " 12  austim                               490 non-null    int64  \n",
      " 13  used_app_before                      490 non-null    int64  \n",
      " 14  result                               490 non-null    float64\n",
      " 15  relation_Health care professional    490 non-null    int64  \n",
      " 16  relation_Others                      490 non-null    int64  \n",
      " 17  relation_Parent                      490 non-null    int64  \n",
      " 18  relation_Relative                    490 non-null    int64  \n",
      " 19  relation_Self                        490 non-null    int64  \n",
      " 20  ethnicity_Asian                      490 non-null    int64  \n",
      " 21  ethnicity_Black                      490 non-null    int64  \n",
      " 22  ethnicity_Hispanic                   490 non-null    int64  \n",
      " 23  ethnicity_Latino                     490 non-null    int64  \n",
      " 24  ethnicity_Middle Eastern             490 non-null    int64  \n",
      " 25  ethnicity_Others                     490 non-null    int64  \n",
      " 26  ethnicity_Pasifika                   490 non-null    int64  \n",
      " 27  ethnicity_South Asian                490 non-null    int64  \n",
      " 28  ethnicity_Turkish                    490 non-null    int64  \n",
      " 29  ethnicity_White-European             490 non-null    int64  \n",
      " 30  ethnicity_others                     490 non-null    int64  \n",
      " 31  gender_f                             490 non-null    int64  \n",
      " 32  gender_m                             490 non-null    int64  \n",
      " 33  country_of_res_Afghanistan           490 non-null    int64  \n",
      " 34  country_of_res_Argentina             490 non-null    int64  \n",
      " 35  country_of_res_Armenia               490 non-null    int64  \n",
      " 36  country_of_res_Australia             490 non-null    int64  \n",
      " 37  country_of_res_Austria               490 non-null    int64  \n",
      " 38  country_of_res_Belgium               490 non-null    int64  \n",
      " 39  country_of_res_Brazil                490 non-null    int64  \n",
      " 40  country_of_res_Canada                490 non-null    int64  \n",
      " 41  country_of_res_Ethiopia              490 non-null    int64  \n",
      " 42  country_of_res_France                490 non-null    int64  \n",
      " 43  country_of_res_India                 490 non-null    int64  \n",
      " 44  country_of_res_Iraq                  490 non-null    int64  \n",
      " 45  country_of_res_Italy                 490 non-null    int64  \n",
      " 46  country_of_res_Jordan                490 non-null    int64  \n",
      " 47  country_of_res_Kazakhstan            490 non-null    int64  \n",
      " 48  country_of_res_Malaysia              490 non-null    int64  \n",
      " 49  country_of_res_Mexico                490 non-null    int64  \n",
      " 50  country_of_res_Netherlands           490 non-null    int64  \n",
      " 51  country_of_res_New Zealand           490 non-null    int64  \n",
      " 52  country_of_res_Nicaragua             490 non-null    int64  \n",
      " 53  country_of_res_Philippines           490 non-null    int64  \n",
      " 54  country_of_res_Russia                490 non-null    int64  \n",
      " 55  country_of_res_South Africa          490 non-null    int64  \n",
      " 56  country_of_res_Sri Lanka             490 non-null    int64  \n",
      " 57  country_of_res_Sweden                490 non-null    int64  \n",
      " 58  country_of_res_Turkey                490 non-null    int64  \n",
      " 59  country_of_res_United Arab Emirates  490 non-null    int64  \n",
      " 60  country_of_res_United Kingdom        490 non-null    int64  \n",
      " 61  country_of_res_United States         490 non-null    int64  \n",
      " 62  country_of_res_Viet Nam              490 non-null    int64  \n",
      "dtypes: float64(2), int64(61)\n",
      "memory usage: 241.3 KB\n",
      "None\n"
     ]
    }
   ],
   "source": [
    "data_info = autism_X_train.info()\n",
    "print(data_info)"
   ]
  },
  {
   "cell_type": "code",
   "execution_count": 18,
   "id": "10aa841e",
   "metadata": {},
   "outputs": [
    {
     "name": "stdout",
     "output_type": "stream",
     "text": [
      "<class 'pandas.core.series.Series'>\n",
      "RangeIndex: 490 entries, 0 to 489\n",
      "Series name: Class/ASD\n",
      "Non-Null Count  Dtype\n",
      "--------------  -----\n",
      "490 non-null    int64\n",
      "dtypes: int64(1)\n",
      "memory usage: 4.0 KB\n",
      "None\n"
     ]
    }
   ],
   "source": [
    "data_info = autism_y_train.info()\n",
    "print(data_info)"
   ]
  },
  {
   "cell_type": "markdown",
   "id": "7e2cda34",
   "metadata": {},
   "source": [
    "## Entscheidungsbaum: Autism"
   ]
  },
  {
   "cell_type": "code",
   "execution_count": 28,
   "id": "d27116e7",
   "metadata": {},
   "outputs": [],
   "source": [
    "# Entscheidungsbaum mit Default-Einstellungen und unkorrilierten Daten\n",
    "from sklearn.tree import DecisionTreeClassifier\n",
    "clf = DecisionTreeClassifier(criterion = 'entropy', max_depth = 5, max_features = 7) #Init des Entscheidungsbaumes\n",
    "clf = clf.fit(autism_X_train,autism_y_train)  #Training des Entscheidungsbaumes\n",
    "#clf.get_params()"
   ]
  },
  {
   "cell_type": "code",
   "execution_count": 29,
   "id": "ca056826",
   "metadata": {},
   "outputs": [],
   "source": [
    "y_pred = clf.predict(autism_X_test) #Prädiktion der Testdaten\n",
    "#y_pred"
   ]
  },
  {
   "cell_type": "code",
   "execution_count": 30,
   "id": "e8e914d0",
   "metadata": {},
   "outputs": [
    {
     "ename": "NameError",
     "evalue": "name 'accuracy_score' is not defined",
     "output_type": "error",
     "traceback": [
      "\u001b[1;31m---------------------------------------------------------------------------\u001b[0m",
      "\u001b[1;31mNameError\u001b[0m                                 Traceback (most recent call last)",
      "Cell \u001b[1;32mIn[30], line 1\u001b[0m\n\u001b[1;32m----> 1\u001b[0m accuracy_score(autism_y_test, y_pred)\n",
      "\u001b[1;31mNameError\u001b[0m: name 'accuracy_score' is not defined"
     ]
    }
   ],
   "source": [
    "accuracy_score(autism_y_test, y_pred)"
   ]
  },
  {
   "cell_type": "code",
   "execution_count": 422,
   "id": "c9f11a91",
   "metadata": {},
   "outputs": [
    {
     "data": {
      "text/plain": [
       "array([1.  , 0.8 , 1.  , 0.8 , 1.  , 1.  , 1.  , 1.  , 0.8 , 1.  , 1.  ,\n",
       "       1.  , 1.  , 1.  , 0.8 , 1.  , 1.  , 1.  , 1.  , 0.8 , 1.  , 1.  ,\n",
       "       1.  , 1.  , 1.  , 0.8 , 1.  , 0.8 , 0.6 , 1.  , 0.8 , 1.  , 1.  ,\n",
       "       1.  , 1.  , 0.8 , 1.  , 1.  , 1.  , 0.8 , 1.  , 1.  , 1.  , 1.  ,\n",
       "       0.8 , 1.  , 1.  , 1.  , 0.8 , 0.8 , 1.  , 1.  , 0.8 , 0.8 , 0.6 ,\n",
       "       0.8 , 0.8 , 0.8 , 1.  , 1.  , 0.8 , 1.  , 0.6 , 1.  , 0.8 , 1.  ,\n",
       "       1.  , 1.  , 1.  , 0.8 , 1.  , 0.8 , 0.8 , 0.8 , 0.8 , 0.8 , 0.8 ,\n",
       "       1.  , 0.6 , 0.6 , 1.  , 1.  , 1.  , 1.  , 0.6 , 1.  , 0.8 , 1.  ,\n",
       "       1.  , 1.  , 1.  , 0.75, 1.  , 1.  , 0.75, 0.75, 0.75, 1.  , 0.75,\n",
       "       0.75])"
      ]
     },
     "execution_count": 422,
     "metadata": {},
     "output_type": "execute_result"
    }
   ],
   "source": [
    "scores = cross_val_score(clf, autism_X_train, autism_y_train, cv = 100) #Kreuzvalidierung\n",
    "scores"
   ]
  },
  {
   "cell_type": "code",
   "execution_count": 423,
   "id": "0021f57a",
   "metadata": {},
   "outputs": [
    {
     "data": {
      "text/plain": [
       "0.905"
      ]
     },
     "execution_count": 423,
     "metadata": {},
     "output_type": "execute_result"
    }
   ],
   "source": [
    "np.mean(scores) #Generalisierbarkeit des Modells"
   ]
  },
  {
   "cell_type": "code",
   "execution_count": 424,
   "id": "b36da13b",
   "metadata": {},
   "outputs": [
    {
     "data": {
      "text/plain": [
       "0.12459935794377111"
      ]
     },
     "execution_count": 424,
     "metadata": {},
     "output_type": "execute_result"
    }
   ],
   "source": [
    "np.std(scores) #Stabilität des Modellgüte"
   ]
  },
  {
   "cell_type": "code",
   "execution_count": 425,
   "id": "5c3cf532",
   "metadata": {},
   "outputs": [
    {
     "name": "stdout",
     "output_type": "stream",
     "text": [
      "              precision    recall  f1-score   support\n",
      "\n",
      "           0       1.00      1.00      1.00        79\n",
      "           1       1.00      1.00      1.00        26\n",
      "\n",
      "    accuracy                           1.00       105\n",
      "   macro avg       1.00      1.00      1.00       105\n",
      "weighted avg       1.00      1.00      1.00       105\n",
      "\n"
     ]
    }
   ],
   "source": [
    "class_report_train = classification_report(autism_y_test, y_pred)\n",
    "print(class_report_train)"
   ]
  },
  {
   "cell_type": "code",
   "execution_count": 1,
   "id": "a39da9ce",
   "metadata": {},
   "outputs": [
    {
     "ename": "NameError",
     "evalue": "name 'autism_y_test' is not defined",
     "output_type": "error",
     "traceback": [
      "\u001b[1;31m---------------------------------------------------------------------------\u001b[0m",
      "\u001b[1;31mNameError\u001b[0m                                 Traceback (most recent call last)",
      "Cell \u001b[1;32mIn[1], line 6\u001b[0m\n\u001b[0;32m      3\u001b[0m \u001b[38;5;28;01mimport\u001b[39;00m \u001b[38;5;21;01mmatplotlib\u001b[39;00m\u001b[38;5;21;01m.\u001b[39;00m\u001b[38;5;21;01mpyplot\u001b[39;00m \u001b[38;5;28;01mas\u001b[39;00m \u001b[38;5;21;01mplt\u001b[39;00m\n\u001b[0;32m      4\u001b[0m \u001b[38;5;28;01mimport\u001b[39;00m \u001b[38;5;21;01mseaborn\u001b[39;00m \u001b[38;5;28;01mas\u001b[39;00m \u001b[38;5;21;01msns\u001b[39;00m\n\u001b[1;32m----> 6\u001b[0m conf_matrix_test \u001b[38;5;241m=\u001b[39m confusion_matrix(autism_y_test, y_pred)\n\u001b[0;32m      8\u001b[0m plt\u001b[38;5;241m.\u001b[39mfigure(figsize\u001b[38;5;241m=\u001b[39m(\u001b[38;5;241m6\u001b[39m, \u001b[38;5;241m4\u001b[39m))\n\u001b[0;32m      9\u001b[0m sns\u001b[38;5;241m.\u001b[39mheatmap(conf_matrix_test, annot\u001b[38;5;241m=\u001b[39m\u001b[38;5;28;01mTrue\u001b[39;00m, fmt\u001b[38;5;241m=\u001b[39m\u001b[38;5;124m\"\u001b[39m\u001b[38;5;124md\u001b[39m\u001b[38;5;124m\"\u001b[39m, cmap\u001b[38;5;241m=\u001b[39m\u001b[38;5;124m'\u001b[39m\u001b[38;5;124mBlues\u001b[39m\u001b[38;5;124m'\u001b[39m, xticklabels\u001b[38;5;241m=\u001b[39m[\u001b[38;5;124m'\u001b[39m\u001b[38;5;124mClass/ASD True\u001b[39m\u001b[38;5;124m'\u001b[39m, \u001b[38;5;124m'\u001b[39m\u001b[38;5;124mClass/ASD False\u001b[39m\u001b[38;5;124m'\u001b[39m], yticklabels\u001b[38;5;241m=\u001b[39m[\u001b[38;5;124m'\u001b[39m\u001b[38;5;124mClass/ASD True\u001b[39m\u001b[38;5;124m'\u001b[39m, \u001b[38;5;124m'\u001b[39m\u001b[38;5;124mClass/ASD False\u001b[39m\u001b[38;5;124m'\u001b[39m])\n",
      "\u001b[1;31mNameError\u001b[0m: name 'autism_y_test' is not defined"
     ]
    }
   ],
   "source": [
    "# Plot confusion matrix for test data\n",
    "from sklearn.metrics import confusion_matrix\n",
    "import matplotlib.pyplot as plt\n",
    "import seaborn as sns\n",
    "\n",
    "conf_matrix_test = confusion_matrix(autism_y_test, y_pred)\n",
    "\n",
    "plt.figure(figsize=(6, 4))\n",
    "sns.heatmap(conf_matrix_test, annot=True, fmt=\"d\", cmap='Blues', xticklabels=['Class/ASD True', 'Class/ASD False'], yticklabels=['Class/ASD True', 'Class/ASD False'])\n",
    "plt.ylabel('True Label')\n",
    "plt.xlabel('Predicted Label')\n",
    "plt.title('Confusion Matrix on Test Data')\n",
    "plt.show()"
   ]
  },
  {
   "cell_type": "markdown",
   "id": "7d713f27",
   "metadata": {},
   "source": [
    "# Datenimport: Breast Cancer"
   ]
  },
  {
   "cell_type": "code",
   "execution_count": 294,
   "id": "9ac658d3",
   "metadata": {},
   "outputs": [
    {
     "name": "stdout",
     "output_type": "stream",
     "text": [
      "           ID  class  radiusMean   textureMean   smoothnessMean  \\\n",
      "0     8813129      0    1.986366      2.033398         0.031324   \n",
      "1      898678      0    1.804840      2.253395         0.030752   \n",
      "2      917896      0    2.044979      2.230014         0.045480   \n",
      "3      869691      1    1.761128      1.974081         0.054933   \n",
      "4     9110127      1    2.488982      2.010895         0.036178   \n",
      "..        ...    ...         ...           ...              ...   \n",
      "280  89864002      0    1.745541      1.803359         0.060502   \n",
      "281    884626      0    1.932825      1.553925         0.034372   \n",
      "282    892189      1    1.754231      2.170196         0.045977   \n",
      "283    919812      0    1.742044      2.712042         0.068565   \n",
      "284   8810158      0    1.964171      2.577182         0.046473   \n",
      "\n",
      "      compactnessMean   concavityMean   symmetryMean   fractalDimensionMean  \\\n",
      "0            0.030102        0.034923       0.027712               0.006469   \n",
      "1            0.037835        0.007482       0.033435               0.010178   \n",
      "2            0.083992        0.052450       0.048695               0.018017   \n",
      "3            0.140301        0.153493       0.136539               0.023189   \n",
      "4            0.098777        0.103459       0.049266               0.007522   \n",
      "..                ...             ...            ...                    ...   \n",
      "280          0.052052        0.039278       0.076405               0.014701   \n",
      "281          0.109052        0.128745       0.037392               0.013745   \n",
      "282          0.038990        0.026496       0.039605               0.012541   \n",
      "283          0.127355        0.044160       0.087645               0.023521   \n",
      "284          0.121261        0.083468       0.061565               0.022593   \n",
      "\n",
      "      radiusStdErr  ...   smoothnessStdErr   compactnessStdErr  \\\n",
      "0         0.162204  ...           0.004310            0.008750   \n",
      "1         0.119027  ...           0.005452            0.008670   \n",
      "2         0.184403  ...           0.005013            0.020056   \n",
      "3         0.184902  ...           0.003707            0.033510   \n",
      "4         0.167208  ...           0.002401            0.013260   \n",
      "..             ...  ...                ...                 ...   \n",
      "280       0.205387  ...           0.007793            0.008680   \n",
      "281       0.082409  ...           0.003781            0.052277   \n",
      "282       0.424221  ...           0.003875            0.007768   \n",
      "283       0.164751  ...           0.011105            0.032175   \n",
      "284       0.073715  ...           0.003532            0.027769   \n",
      "\n",
      "      concavityStdErr   concavePointsStdErr   symmetryStdErr  \\\n",
      "0            0.022339              0.009016         0.005267   \n",
      "1            0.005815              0.005480         0.010229   \n",
      "2            0.020645              0.013429         0.009119   \n",
      "3            0.045442              0.018262         0.045682   \n",
      "4            0.029316              0.009706         0.003405   \n",
      "..                ...                   ...              ...   \n",
      "280          0.016375              0.011148         0.009941   \n",
      "281          0.078423              0.013607         0.003116   \n",
      "282          0.012640              0.014218         0.006192   \n",
      "283          0.018478              0.017506         0.006043   \n",
      "284          0.024946              0.008270         0.015481   \n",
      "\n",
      "      fractalDimensionStdErr   smoothnessWorst   compactnessWorst  \\\n",
      "0                   0.001527          0.054895           0.098768   \n",
      "1                   0.001784          0.056125           0.102475   \n",
      "2                   0.002775          0.068901           0.206453   \n",
      "3                   0.003660          0.065160           0.323467   \n",
      "4                   0.001467          0.053664           0.214555   \n",
      "..                       ...               ...                ...   \n",
      "280                 0.002129          0.072163           0.080852   \n",
      "281                 0.006565          0.052811           0.443153   \n",
      "282                 0.001788          0.041650           0.051121   \n",
      "283                 0.004844          0.100415           0.260678   \n",
      "284                 0.003224          0.061782           0.345651   \n",
      "\n",
      "      symmetryWorst   fractalDimensionWorst  \n",
      "0          0.086453                0.017643  \n",
      "1          0.120180                0.022153  \n",
      "2          0.117427                0.031382  \n",
      "3          0.348613                0.043605  \n",
      "4          0.116805                0.023541  \n",
      "..              ...                     ...  \n",
      "280        0.109930                0.019440  \n",
      "281        0.098578                0.057674  \n",
      "282        0.036814                0.010663  \n",
      "283        0.113329                0.040441  \n",
      "284        0.225142                0.047999  \n",
      "\n",
      "[285 rows x 21 columns]\n"
     ]
    }
   ],
   "source": [
    "pfad = 'C:/Users/benja/Documents/Persoenlich/Ausbildung/TU/Digitale_Kompetenzen/03_Anwendungsfelder_der_Digitalisierung/Machine_Learning/UE/1_Exercise/Datensaetze/breast_cancer_preproc/'\n",
    "\n",
    "breastcancer_data = pd.read_csv(pfad + 'breat_cancer_preproc.csv')\n",
    "print(breastcancer_data)"
   ]
  },
  {
   "cell_type": "code",
   "execution_count": 309,
   "id": "9c46a0d7",
   "metadata": {},
   "outputs": [
    {
     "name": "stdout",
     "output_type": "stream",
     "text": [
      "           ID  radiusMean   textureMean   smoothnessMean   compactnessMean  \\\n",
      "269    925277    2.152808      2.587764         0.031596          0.107616   \n",
      "25     865128    2.482320      2.363680         0.030907          0.046731   \n",
      "86     859717    2.417609      2.717340         0.053038          0.151536   \n",
      "144    864729    2.184815      1.986504         0.061631          0.135859   \n",
      "137    911654    2.106449      2.411439         0.036023          0.087480   \n",
      "..        ...         ...           ...              ...               ...   \n",
      "188    881972    2.404148      2.272126         0.059655          0.129114   \n",
      "71     885429    2.620966      2.345645         0.052184          0.153167   \n",
      "106   8913049    1.663737      2.358965         0.027197          0.094146   \n",
      "270  91762702    2.925793      2.503074         0.049142          0.174978   \n",
      "102    922297    2.065469      2.426571         0.042245          0.079199   \n",
      "\n",
      "      concavityMean   symmetryMean   fractalDimensionMean   radiusStdErr  \\\n",
      "269        0.097943       0.023619               0.011158       0.103278   \n",
      "25         0.070393       0.087461               0.000000       0.360468   \n",
      "86         0.156320       0.068780               0.014514       0.388048   \n",
      "144        0.156149       0.090024               0.017280       0.270027   \n",
      "137        0.049390       0.028685               0.009792       0.207989   \n",
      "..              ...            ...                    ...            ...   \n",
      "188        0.174793       0.087645               0.012916       0.164921   \n",
      "71         0.216481       0.050503               0.016582       0.500472   \n",
      "106        0.088688       0.129272               0.012008       0.314811   \n",
      "270        0.207827       0.074736               0.016995       0.628555   \n",
      "102        0.036216       0.039701               0.016493       0.144447   \n",
      "\n",
      "      textureStdErr   smoothnessStdErr   compactnessStdErr   concavityStdErr  \\\n",
      "269        0.558358           0.002526            0.043192          0.063707   \n",
      "25         0.617238           0.002308            0.006151          0.022652   \n",
      "86         0.519270           0.004099            0.052505          0.041641   \n",
      "144        0.462916           0.005258            0.023109          0.029666   \n",
      "137        0.505491           0.002391            0.030168          0.027819   \n",
      "..              ...                ...                 ...               ...   \n",
      "188        0.276722           0.003812            0.017671          0.030093   \n",
      "71         0.350516           0.006746            0.047187          0.065788   \n",
      "106        0.934052           0.013930            0.077302          0.077877   \n",
      "270        0.431912           0.003271            0.029431          0.035087   \n",
      "102        0.522833           0.004575            0.019281          0.025814   \n",
      "\n",
      "      concavePointsStdErr   symmetryStdErr   fractalDimensionStdErr  \\\n",
      "269              0.015932         0.006818                 0.003432   \n",
      "25               0.009815         0.039798                 0.000933   \n",
      "86               0.011207         0.005715                 0.005317   \n",
      "144              0.012630         0.006460                 0.002911   \n",
      "137              0.013410         0.006540                 0.001774   \n",
      "..                    ...              ...                      ...   \n",
      "188              0.013745         0.002229                 0.001367   \n",
      "71               0.019518         0.005118                 0.006271   \n",
      "106              0.034276         0.024342                 0.005533   \n",
      "270              0.015844         0.009208                 0.003785   \n",
      "102              0.009020         0.005347                 0.002627   \n",
      "\n",
      "      smoothnessWorst   compactnessWorst   symmetryWorst  \\\n",
      "269          0.030946           0.254495        0.063444   \n",
      "25           0.035396           0.088844        0.283599   \n",
      "86           0.083725           0.537727        0.157858   \n",
      "144          0.110315           0.351157        0.180820   \n",
      "137          0.043184           0.274300        0.089018   \n",
      "..                ...                ...             ...   \n",
      "188          0.094519           0.311967        0.140284   \n",
      "71           0.095156           0.449935        0.108496   \n",
      "106          0.031140           0.145839        0.126809   \n",
      "270          0.061123           0.330389        0.144447   \n",
      "102          0.053759           0.162467        0.062599   \n",
      "\n",
      "      fractalDimensionWorst  \n",
      "269                0.021380  \n",
      "25                 0.002676  \n",
      "86                 0.072758  \n",
      "144                0.046950  \n",
      "137                0.019950  \n",
      "..                      ...  \n",
      "188                0.031673  \n",
      "71                 0.068845  \n",
      "106                0.011593  \n",
      "270                0.037565  \n",
      "102                0.026145  \n",
      "\n",
      "[228 rows x 20 columns]\n"
     ]
    }
   ],
   "source": [
    "#Holdout-Methode\n",
    "from sklearn.model_selection import train_test_split\n",
    "\n",
    "X = breastcancer_data.iloc[:, 2:]\n",
    "new_column = breastcancer_data.iloc[:, 0]\n",
    "X.insert(0, 'ID', new_column)\n",
    "\n",
    "y = breastcancer_data['class'] # Mammographic\n",
    "\n",
    "breastcancer_X_train, breastcancer_X_test, breastcancer_y_train, breastcancer_y_test = train_test_split(X,y,test_size=0.2, random_state=42)\n",
    "\n",
    "print(breastcancer_X_train)"
   ]
  },
  {
   "cell_type": "code",
   "execution_count": 310,
   "id": "8eed48e4",
   "metadata": {},
   "outputs": [
    {
     "name": "stdout",
     "output_type": "stream",
     "text": [
      "            ID  radiusMean   textureMean   smoothnessMean   compactnessMean  \\\n",
      "9       849014    2.626768      2.547099         0.044667          0.080030   \n",
      "249   91930402    2.673390      2.423917         0.038191          0.106088   \n",
      "157     842302    2.485656      0.000000         0.063698          0.229698   \n",
      "209    9012568    2.220181      1.342865         0.026642          0.048752   \n",
      "75     9112712    1.328135      2.934920         0.026846          0.026525   \n",
      "232    9012315    2.338821      2.632608         0.043816          0.122501   \n",
      "264    8710441    1.321756      1.785070         0.053133          0.131484   \n",
      "170     868223    1.745541      1.986504         0.051140          0.040729   \n",
      "42     9013838    1.629044      2.246015         0.066696          0.178999   \n",
      "225     844981    1.948621      2.520917         0.072014          0.160263   \n",
      "46   911320501    1.726154      2.195000         0.031935          0.038422   \n",
      "267     864726    1.088225      1.853168         0.041132          0.099773   \n",
      "143     873357    1.950044      2.552565         0.009832          0.000000   \n",
      "168     895100    2.664377      2.495682         0.062383          0.155396   \n",
      "5    881094802    2.437029      2.783776         0.046855          0.090955   \n",
      "217   84300903    2.618053      2.474014         0.055406          0.131484   \n",
      "230      90312    2.607788      2.626840         0.047237          0.106538   \n",
      "140    9013005    2.042388      1.900614         0.029937          0.043404   \n",
      "154     857010    2.539158      2.106570         0.055690          0.139083   \n",
      "33    89143601    1.684360      2.252344         0.033918          0.030238   \n",
      "109    8811779    1.439598      2.091864         0.027528          0.038923   \n",
      "60      911685    1.706383      1.650580         0.050665          0.061001   \n",
      "68      917897    1.352220      1.840550         0.041420          0.062796   \n",
      "218    8711202    2.459503      2.430098         0.057202          0.137254   \n",
      "56    91594602    2.204862      2.271094         0.038759          0.064467   \n",
      "93      919555    2.678896      2.440606         0.050665          0.143685   \n",
      "77     8811523    1.776477      2.193886         0.040182          0.091685   \n",
      "276    8910251    1.530178      2.258633         0.043299          0.091047   \n",
      "273     911366    1.729707      2.174752         0.062853          0.121261   \n",
      "108     862009    2.010761      2.188296         0.048381          0.060408   \n",
      "254     901303    2.321309      1.900614         0.045136          0.117267   \n",
      "158      87930    1.870108      2.221375         0.045948          0.082888   \n",
      "167      90291    2.153969      2.632608         0.033619          0.045910   \n",
      "45      894089    1.873186      2.010895         0.031964          0.018782   \n",
      "79     9113846    1.838802      3.024806         0.024068          0.014494   \n",
      "208     893783    1.743794      2.275214         0.034894          0.032612   \n",
      "66      859465    1.673164      2.267994         0.028354          0.027255   \n",
      "82      915691    2.004044      2.410542         0.056352          0.120021   \n",
      "179    9112085    2.001345      3.060583         0.039048          0.053427   \n",
      "186     902727    1.987737      1.467874         0.030529          0.064260   \n",
      "30      897604    1.947195      1.578979         0.041132          0.077211   \n",
      "22      879830    2.400528      2.386926         0.034488          0.052270   \n",
      "24      865468    1.999992      1.947338         0.018351          0.052469   \n",
      "132     904647    1.783223      0.425268         0.035454          0.032506   \n",
      "73      864496    1.009781      1.864080         0.060502          0.060747   \n",
      "202     909220    2.086789      1.887070         0.031450          0.038807   \n",
      "224     858477    0.969642      0.879627         0.043912          0.032796   \n",
      "246     869254    1.562137      1.720979         0.024985          0.031508   \n",
      "90      922577    1.467644      1.941615         0.040864          0.030102   \n",
      "203      85715    1.972552      2.227862         0.061255          0.098686   \n",
      "262     864018    1.678777      2.474856         0.034363          0.045327   \n",
      "175   90524101    2.485656      2.423031         0.049714          0.105279   \n",
      "92      907915    1.859262      2.116256         0.051425          0.106358   \n",
      "6       897132    1.656131      2.349469         0.051425          0.047275   \n",
      "126    8610175    1.845142      1.965713         0.038345          0.047752   \n",
      "255   85713702    0.795252      2.009555         0.032825          0.039269   \n",
      "271  901034301    1.239822      2.190536         0.047141          0.039394   \n",
      "\n",
      "      concavityMean   symmetryMean   fractalDimensionMean   radiusStdErr  \\\n",
      "9          0.137934       0.036043               0.003693       0.495671   \n",
      "249        0.141760       0.090846               0.003932       0.540579   \n",
      "157        0.262441       0.113686               0.028063       0.682288   \n",
      "209        0.033367       0.049361               0.005177       0.059871   \n",
      "75         0.015292       0.039797               0.009227       0.059683   \n",
      "232        0.166446       0.091667               0.011859       0.273532   \n",
      "264        0.344157       0.125134               0.041823       0.535265   \n",
      "170        0.035290       0.012324               0.009158       0.286907   \n",
      "42         0.156063       0.093581               0.028830       0.090572   \n",
      "225        0.170502       0.107508               0.023365       0.173701   \n",
      "46         0.033116       0.029656               0.008305       0.062975   \n",
      "267        0.088588       0.008960               0.021155       0.179484   \n",
      "143        0.001594       0.017840               0.002088       0.054962   \n",
      "168        0.228330       0.126985               0.016316       0.374043   \n",
      "5          0.155464       0.009257               0.008375       0.345715   \n",
      "217        0.180153       0.081949               0.009693       0.487966   \n",
      "230        0.170249       0.074551               0.008553       0.401524   \n",
      "140        0.025239       0.063632               0.006419       0.052498   \n",
      "154        0.180153       0.066911               0.010188       0.413632   \n",
      "33         0.023707       0.076776               0.009257       0.138892   \n",
      "109        0.056135       0.072228               0.012818       0.215192   \n",
      "60         0.051719       0.054867               0.015371       0.083238   \n",
      "68         0.023033       0.017054               0.018488       0.125045   \n",
      "218        0.170165       0.072879               0.011345       0.527506   \n",
      "56         0.072190       0.034015               0.008861       0.238544   \n",
      "93         0.189380       0.087278               0.012185       0.458690   \n",
      "77         0.064251       0.072507               0.012808       0.165260   \n",
      "276        0.061913       0.068313               0.014554       0.288107   \n",
      "273        0.097127       0.071576               0.022055       0.257352   \n",
      "108        0.038971       0.041430               0.006827       0.164158   \n",
      "254        0.064392       0.074644               0.015352       0.056286   \n",
      "158        0.077007       0.068593               0.013390       0.246469   \n",
      "167        0.080566       0.040374               0.003902       0.261672   \n",
      "45         0.004463       0.000000               0.006459       0.053541   \n",
      "79         0.000000       0.047456               0.009307       0.284352   \n",
      "208        0.015706       0.069619               0.010970       0.042580   \n",
      "66         0.036419       0.029656               0.006399       0.145052   \n",
      "82         0.134968       0.086269               0.022739       0.242162   \n",
      "179        0.027800       0.015873               0.009861       0.202288   \n",
      "186        0.049523       0.039413               0.005674       0.064570   \n",
      "30         0.036698       0.042772               0.021889       0.062787   \n",
      "22         0.067191       0.077979               0.001978       0.384718   \n",
      "24         0.077813       0.020489               0.007948       0.046215   \n",
      "132        0.025726       0.037874               0.005147       0.127161   \n",
      "73         0.040489       0.042485               0.025746       0.048695   \n",
      "202        0.034730       0.048695               0.008692       0.241062   \n",
      "224        0.020400       0.045738               0.021390       0.038547   \n",
      "246        0.022260       0.018233               0.006608       0.127425   \n",
      "90         0.010069       0.064851               0.011691       0.089658   \n",
      "203        0.115647       0.087370               0.017368       0.157431   \n",
      "262        0.050056       0.026837               0.014928       0.111362   \n",
      "175        0.113418       0.074829               0.010386       0.290503   \n",
      "92         0.074560       0.057891               0.020557       0.058363   \n",
      "6          0.004994       0.069992               0.009980       0.166362   \n",
      "126        0.033164       0.049266               0.008851       0.125663   \n",
      "255        0.015755       0.053920               0.014672       0.038932   \n",
      "271        0.026739       0.028685               0.019155       0.330239   \n",
      "\n",
      "      textureStdErr   smoothnessStdErr   compactnessStdErr   concavityStdErr  \\\n",
      "9          0.504888           0.004770            0.016540          0.033348   \n",
      "249        0.865334           0.003220            0.028236          0.040115   \n",
      "157        0.435089           0.004675            0.045726          0.052336   \n",
      "209        0.050978           0.003294            0.012519          0.015391   \n",
      "75         0.844494           0.004863            0.010394          0.014396   \n",
      "232        0.507901           0.003914            0.036253          0.058948   \n",
      "264        1.195073           0.009214            0.089482          0.333611   \n",
      "170        1.146704           0.004853            0.011482          0.026272   \n",
      "42         0.510906           0.005676            0.042329          0.044859   \n",
      "225        0.495793           0.004010            0.032243          0.034913   \n",
      "46         0.340322           0.004984            0.014650          0.020587   \n",
      "267        0.481623           0.016500            0.063302          0.088588   \n",
      "143        0.577624           0.001704            0.000000          0.001594   \n",
      "168        0.508503           0.003765            0.021818          0.031402   \n",
      "5          0.835861           0.028993            0.080010          0.134356   \n",
      "217        0.355364           0.004427            0.037111          0.037604   \n",
      "230        1.245825           0.009482            0.037987          0.072032   \n",
      "140        0.136627           0.002514            0.013526          0.011622   \n",
      "154        0.264746           0.004571            0.036995          0.054052   \n",
      "33         0.960805           0.004813            0.011630          0.013666   \n",
      "109        0.940710           0.002963            0.028537          0.056135   \n",
      "60         0.591004           0.003239            0.018712          0.040720   \n",
      "68         0.618316           0.006994            0.018005          0.010564   \n",
      "218        0.712852           0.007297            0.046204          0.050750   \n",
      "56         0.608569           0.003234            0.013950          0.029238   \n",
      "93         0.488519           0.002861            0.023627          0.039269   \n",
      "77         0.789729           0.007133            0.038901          0.057759   \n",
      "276        0.608025           0.005740            0.033007          0.032990   \n",
      "273        0.867016           0.012795            0.029372          0.048419   \n",
      "108        0.699527           0.004162            0.012579          0.018547   \n",
      "254        0.121155           0.002793            0.015743          0.019322   \n",
      "158        0.521053           0.005226            0.016717          0.026652   \n",
      "167        0.818369           0.006577            0.015054          0.033328   \n",
      "45         0.303728           0.003210            0.000760          0.002617   \n",
      "79         1.455541           0.005610            0.005973          0.000000   \n",
      "208        0.727452           0.004342            0.006835          0.010366   \n",
      "66         0.459132           0.007540            0.006940          0.020420   \n",
      "82         0.451330           0.003694            0.020193          0.033938   \n",
      "179        0.941491           0.004120            0.010156          0.007905   \n",
      "186        0.157516           0.002555            0.018309          0.027888   \n",
      "30         0.247641           0.003512            0.020585          0.030655   \n",
      "22         0.402260           0.003319            0.012697          0.019273   \n",
      "24         0.576501           0.004197            0.029994          0.048381   \n",
      "132        0.521647           0.004452            0.009740          0.013666   \n",
      "73         0.203920           0.006527            0.019683          0.032070   \n",
      "202        0.522240           0.006243            0.010641          0.015952   \n",
      "224        0.198359           0.008362            0.008264          0.019616   \n",
      "246        0.630633           0.004822            0.015438          0.019979   \n",
      "90         0.474245           0.005359            0.004983          0.010069   \n",
      "203        0.427553           0.004807            0.020888          0.028636   \n",
      "262        0.486062           0.007373            0.013230          0.024136   \n",
      "175        0.414161           0.005503            0.025149          0.024780   \n",
      "92         0.741842           0.008253            0.030236          0.047465   \n",
      "6          0.957740           0.011115            0.008750          0.003292   \n",
      "126        0.509705           0.003136            0.015812          0.018095   \n",
      "255        0.467814           0.007229            0.014108          0.015755   \n",
      "271        0.634882           0.005110            0.006707          0.023209   \n",
      "\n",
      "      concavePointsStdErr   symmetryStdErr   fractalDimensionStdErr  \\\n",
      "9                0.015095         0.004013                 0.001028   \n",
      "249              0.016847         0.018450                 0.001749   \n",
      "157              0.015745         0.020284                 0.005211   \n",
      "209              0.009113         0.006907                 0.000798   \n",
      "75               0.006085         0.006182                 0.001299   \n",
      "232              0.016424         0.022183                 0.003112   \n",
      "264              0.051444         0.025591                 0.028463   \n",
      "170              0.012985         0.004043                 0.002735   \n",
      "42               0.013301         0.007810                 0.003461   \n",
      "225              0.012185         0.011821                 0.002777   \n",
      "46               0.007469         0.011633                 0.001798   \n",
      "267              0.022818         0.014200                 0.004622   \n",
      "143              0.001850         0.006569                 0.000000   \n",
      "168              0.013597         0.017978                 0.002374   \n",
      "5                0.038519         0.012137                 0.011525   \n",
      "217              0.020371         0.012878                 0.003596   \n",
      "230              0.033831         0.017978                 0.005258   \n",
      "140              0.006315         0.009842                 0.001208   \n",
      "154              0.016808         0.014633                 0.002563   \n",
      "33               0.009875         0.024323                 0.001958   \n",
      "109              0.010653         0.015933                 0.003638   \n",
      "60               0.008006         0.008852                 0.002642   \n",
      "68               0.006778         0.008663                 0.002523   \n",
      "218              0.018243         0.008207                 0.003992   \n",
      "56               0.009379         0.001979                 0.000749   \n",
      "93               0.014110         0.009892                 0.001719   \n",
      "77               0.017693         0.018224                 0.003799   \n",
      "276              0.013558         0.025181                 0.002347   \n",
      "273              0.018243         0.008495                 0.004240   \n",
      "108              0.009322         0.009258                 0.000848   \n",
      "254              0.011889         0.009753                 0.002724   \n",
      "158              0.010317         0.008247                 0.002614   \n",
      "167              0.015637         0.007830                 0.001901   \n",
      "45               0.003384         0.004381                 0.000376   \n",
      "79               0.000000         0.021635                 0.002165   \n",
      "208              0.007609         0.013855                 0.000692   \n",
      "66               0.008925         0.012216                 0.001177   \n",
      "82               0.013252         0.007483                 0.003032   \n",
      "179              0.009087         0.006082                 0.002015   \n",
      "186              0.008432         0.005058                 0.001643   \n",
      "30               0.007288         0.006828                 0.004722   \n",
      "22               0.011167         0.013312                 0.001611   \n",
      "24               0.010326         0.002538                 0.003103   \n",
      "132              0.005815         0.001420                 0.000888   \n",
      "73               0.010346         0.007513                 0.002834   \n",
      "202              0.009005         0.010456                 0.001860   \n",
      "224              0.005726         0.011297                 0.001818   \n",
      "246              0.005596         0.007145                 0.001391   \n",
      "90               0.005480         0.006043                 0.001636   \n",
      "203              0.012077         0.007860                 0.002671   \n",
      "262              0.006414         0.006122                 0.001508   \n",
      "175              0.014692         0.004590                 0.002365   \n",
      "92               0.011602         0.012256                 0.005024   \n",
      "6                0.004955         0.032362                 0.000994   \n",
      "126              0.007933         0.004312                 0.001335   \n",
      "255              0.005900         0.016071                 0.001612   \n",
      "271              0.006544         0.009833                 0.001743   \n",
      "\n",
      "      smoothnessWorst   compactnessWorst   symmetryWorst  \\\n",
      "9            0.076989           0.252865        0.110199   \n",
      "249          0.037806           0.203847        0.149884   \n",
      "157          0.087122           0.493665        0.262210   \n",
      "209          0.040595           0.136635        0.084709   \n",
      "75           0.039057           0.080298        0.069339   \n",
      "232          0.067967           0.364094        0.279221   \n",
      "264          0.056409           0.223072        0.140197   \n",
      "170          0.054422           0.072795        0.010841   \n",
      "42           0.137350           0.647423        0.227215   \n",
      "225          0.094519           0.413969        0.244905   \n",
      "46           0.061123           0.142809        0.149023   \n",
      "267          0.045671           0.148946        0.004888   \n",
      "143          0.010030           0.007005        0.066911   \n",
      "168          0.084369           0.352001        0.333253   \n",
      "5            0.051767           0.141508        0.000000   \n",
      "217          0.070673           0.334477        0.183155   \n",
      "230          0.052526           0.194011        0.092853   \n",
      "140          0.038576           0.167470        0.158712   \n",
      "154          0.092333           0.393197        0.198523   \n",
      "33           0.039826           0.067462        0.153922   \n",
      "109          0.023814           0.106529        0.119115   \n",
      "60           0.062064           0.160170        0.125575   \n",
      "68           0.068341           0.179827        0.086086   \n",
      "218          0.068247           0.279531        0.082501   \n",
      "56           0.052052           0.167893        0.065694   \n",
      "93           0.054138           0.251700        0.137499   \n",
      "77           0.067032           0.244756        0.165006   \n",
      "276          0.048914           0.202296        0.125487   \n",
      "273          0.101500           0.231516        0.100479   \n",
      "108          0.060841           0.137856        0.102105   \n",
      "254          0.051007           0.205151        0.144100   \n",
      "158          0.068994           0.191042        0.131993   \n",
      "167          0.058297           0.122934        0.083790   \n",
      "45           0.038480           0.021996        0.030917   \n",
      "79           0.022788           0.024537        0.077516   \n",
      "208          0.049866           0.078266        0.172608   \n",
      "66           0.056220           0.062214        0.076683   \n",
      "82           0.082713           0.306241        0.180820   \n",
      "179          0.045002           0.108684        0.057608   \n",
      "186          0.044428           0.216087        0.107329   \n",
      "30           0.042130           0.157183        0.079643   \n",
      "22           0.039153           0.114498        0.154608   \n",
      "24           0.030849           0.203602        0.043538   \n",
      "132          0.064129           0.122403        0.082225   \n",
      "73           0.096428           0.189885        0.124251   \n",
      "202          0.047198           0.093408        0.106340   \n",
      "224          0.097245           0.092224        0.149884   \n",
      "246          0.035782           0.090763        0.067378   \n",
      "90           0.055747           0.059334        0.102376   \n",
      "203          0.102042           0.328807        0.206770   \n",
      "262          0.094155           0.175893        0.115647   \n",
      "175          0.074207           0.297293        0.136016   \n",
      "92           0.071232           0.211565        0.091028   \n",
      "6            0.068808           0.067098        0.156063   \n",
      "126          0.045384           0.145839        0.096673   \n",
      "255          0.056881           0.102927        0.139936   \n",
      "271          0.060276           0.074746        0.081672   \n",
      "\n",
      "      fractalDimensionWorst  \n",
      "9                  0.017565  \n",
      "249                0.005415  \n",
      "157                0.058712  \n",
      "209                0.009188  \n",
      "75                 0.013587  \n",
      "232                0.037016  \n",
      "264                0.065291  \n",
      "170                0.014889  \n",
      "42                 0.078691  \n",
      "225                0.047618  \n",
      "46                 0.019999  \n",
      "267                0.018616  \n",
      "143                0.000000  \n",
      "168                0.043031  \n",
      "5                  0.009703  \n",
      "217                0.028733  \n",
      "230                0.017437  \n",
      "140                0.018410  \n",
      "154                0.032874  \n",
      "33                 0.011444  \n",
      "109                0.019469  \n",
      "60                 0.032825  \n",
      "68                 0.033106  \n",
      "218                0.018773  \n",
      "56                 0.011049  \n",
      "93                 0.017113  \n",
      "77                 0.024907  \n",
      "276                0.017290  \n",
      "273                0.033696  \n",
      "108                0.007571  \n",
      "254                0.030694  \n",
      "158                0.028655  \n",
      "167                0.009881  \n",
      "45                 0.003305  \n",
      "79                 0.008960  \n",
      "208                0.011088  \n",
      "66                 0.007948  \n",
      "82                 0.051140  \n",
      "179                0.018154  \n",
      "186                0.014662  \n",
      "30                 0.041593  \n",
      "22                 0.006240  \n",
      "24                 0.017693  \n",
      "132                0.014090  \n",
      "73                 0.042360  \n",
      "202                0.013814  \n",
      "224                0.031334  \n",
      "246                0.009217  \n",
      "90                 0.015440  \n",
      "203                0.057769  \n",
      "262                0.029452  \n",
      "175                0.026252  \n",
      "92                 0.034556  \n",
      "6                  0.006767  \n",
      "126                0.017506  \n",
      "255                0.015539  \n",
      "271                0.022671  \n"
     ]
    }
   ],
   "source": [
    "print(breastcancer_X_test)"
   ]
  },
  {
   "cell_type": "code",
   "execution_count": 311,
   "id": "54106b63",
   "metadata": {},
   "outputs": [
    {
     "name": "stdout",
     "output_type": "stream",
     "text": [
      "269    0\n",
      "25     1\n",
      "86     1\n",
      "144    1\n",
      "137    0\n",
      "      ..\n",
      "188    1\n",
      "71     1\n",
      "106    0\n",
      "270    1\n",
      "102    0\n",
      "Name: class, Length: 228, dtype: int64\n"
     ]
    }
   ],
   "source": [
    "print(breastcancer_y_train)"
   ]
  },
  {
   "cell_type": "markdown",
   "id": "fd0b2cb8",
   "metadata": {},
   "source": [
    "# Entscheidungsbaum: Breast-Cancer"
   ]
  },
  {
   "cell_type": "code",
   "execution_count": 438,
   "id": "91282fa3",
   "metadata": {},
   "outputs": [],
   "source": [
    "# Entscheidungsbaum mit Default-Einstellungen und unkorrilierten Daten\n",
    "from sklearn.tree import DecisionTreeClassifier\n",
    "clf = DecisionTreeClassifier(criterion = 'entropy', max_depth = 3, max_features = 4) #Init des Entscheidungsbaumes\n",
    "clf = clf.fit(breastcancer_X_train,breastcancer_y_train)  #Training des Entscheidungsbaumes\n",
    "#clf.get_params()"
   ]
  },
  {
   "cell_type": "code",
   "execution_count": 439,
   "id": "84c785d1",
   "metadata": {},
   "outputs": [],
   "source": [
    "y_pred = clf.predict(breastcancer_X_test) #Prädiktion der Testdaten\n",
    "#y_pred"
   ]
  },
  {
   "cell_type": "code",
   "execution_count": 440,
   "id": "104e72c0",
   "metadata": {},
   "outputs": [
    {
     "data": {
      "text/plain": [
       "0.9122807017543859"
      ]
     },
     "execution_count": 440,
     "metadata": {},
     "output_type": "execute_result"
    }
   ],
   "source": [
    "accuracy_score(breastcancer_y_test, y_pred)"
   ]
  },
  {
   "cell_type": "code",
   "execution_count": 441,
   "id": "beacab68",
   "metadata": {},
   "outputs": [
    {
     "data": {
      "text/plain": [
       "array([0.25      , 0.75      , 1.        , 1.        , 1.        ,\n",
       "       1.        , 1.        , 1.        , 1.        , 0.66666667,\n",
       "       0.66666667, 0.33333333, 0.66666667, 1.        , 0.66666667,\n",
       "       0.66666667, 1.        , 1.        , 1.        , 0.66666667,\n",
       "       1.        , 1.        , 0.        , 1.        , 1.        ,\n",
       "       0.66666667, 0.66666667, 1.        , 1.        , 0.66666667,\n",
       "       0.66666667, 1.        , 0.66666667, 0.66666667, 1.        ,\n",
       "       1.        , 0.66666667, 1.        , 1.        , 0.33333333,\n",
       "       1.        , 1.        , 1.        , 1.        , 1.        ,\n",
       "       1.        , 0.66666667, 0.66666667, 1.        , 1.        ,\n",
       "       0.66666667, 0.66666667, 0.66666667, 1.        , 1.        ,\n",
       "       1.        , 1.        , 0.66666667, 0.66666667, 1.        ,\n",
       "       0.66666667, 0.66666667, 1.        , 1.        , 1.        ,\n",
       "       1.        , 0.66666667, 1.        , 1.        , 0.66666667,\n",
       "       1.        , 1.        , 1.        , 1.        , 1.        ])"
      ]
     },
     "execution_count": 441,
     "metadata": {},
     "output_type": "execute_result"
    }
   ],
   "source": [
    "scores = cross_val_score(clf, breastcancer_X_train, breastcancer_y_train, cv = 75) #Kreuzvalidierung\n",
    "scores"
   ]
  },
  {
   "cell_type": "code",
   "execution_count": 446,
   "id": "24ad2e49",
   "metadata": {},
   "outputs": [
    {
     "data": {
      "text/plain": [
       "0.8488888888888889"
      ]
     },
     "execution_count": 446,
     "metadata": {},
     "output_type": "execute_result"
    }
   ],
   "source": [
    "np.mean(scores) #Generalisierbarkeit des Modells"
   ]
  },
  {
   "cell_type": "code",
   "execution_count": 447,
   "id": "655451fa",
   "metadata": {},
   "outputs": [
    {
     "data": {
      "text/plain": [
       "0.21503373263941522"
      ]
     },
     "execution_count": 447,
     "metadata": {},
     "output_type": "execute_result"
    }
   ],
   "source": [
    "np.std(scores) #Stabilität des Modellgüte"
   ]
  },
  {
   "cell_type": "code",
   "execution_count": 448,
   "id": "dcff144e",
   "metadata": {},
   "outputs": [
    {
     "name": "stdout",
     "output_type": "stream",
     "text": [
      "              precision    recall  f1-score   support\n",
      "\n",
      "           0       0.97      0.89      0.93        38\n",
      "           1       0.82      0.95      0.88        19\n",
      "\n",
      "    accuracy                           0.91        57\n",
      "   macro avg       0.89      0.92      0.90        57\n",
      "weighted avg       0.92      0.91      0.91        57\n",
      "\n"
     ]
    }
   ],
   "source": [
    "class_report_train = classification_report(breastcancer_y_test, y_pred)\n",
    "print(class_report_train)"
   ]
  },
  {
   "cell_type": "code",
   "execution_count": 449,
   "id": "a9e008c0",
   "metadata": {},
   "outputs": [
    {
     "data": {
      "image/png": "[encoded data removed]",
      "text/plain": [
       "<Figure size 600x400 with 2 Axes>"
      ]
     },
     "metadata": {},
     "output_type": "display_data"
    }
   ],
   "source": [
    "# Plot confusion matrix for test data\n",
    "from sklearn.metrics import confusion_matrix\n",
    "import matplotlib.pyplot as plt\n",
    "import seaborn as sns\n",
    "\n",
    "conf_matrix_test = confusion_matrix(breastcancer_y_test, y_pred)\n",
    "\n",
    "plt.figure(figsize=(6, 4))\n",
    "sns.heatmap(conf_matrix_test, annot=True, fmt=\"d\", cmap='Blues', xticklabels=['Class/ASD True', 'Class/ASD False'], yticklabels=['Class/ASD True', 'Class/ASD False'])\n",
    "plt.ylabel('True Label')\n",
    "plt.xlabel('Predicted Label')\n",
    "plt.title('Confusion Matrix for Gaussian NB on Test Data')\n",
    "plt.show()"
   ]
  },
  {
   "cell_type": "markdown",
   "id": "b0aa621c",
   "metadata": {},
   "source": [
    "# Datenimport: Loan"
   ]
  },
  {
   "cell_type": "code",
   "execution_count": 342,
   "id": "4a6f238b",
   "metadata": {},
   "outputs": [
    {
     "name": "stdout",
     "output_type": "stream",
     "text": [
      "             ID  loan_amnt  int_rate  annual_inc  pymnt_plan       dti  \\\n",
      "0     10.099959   9.350189  1.064711   11.238502         0.0  3.270709   \n",
      "1     11.120401  10.399737  2.814210   11.225257         0.0  3.630190   \n",
      "2     10.465415   9.105091  2.753024   10.360311         0.0  2.005526   \n",
      "3      8.482395   9.865318  2.302585   10.685126         0.0  3.222071   \n",
      "4     10.989690  10.085851  2.368373   11.289794         0.0  3.169265   \n",
      "...         ...        ...       ...         ...         ...       ...   \n",
      "9995   8.801620   9.852247  2.460443   10.799596         0.0  2.865624   \n",
      "9996  10.162423   8.779711  1.644805   10.630722         0.0  2.944965   \n",
      "9997  11.468963   9.890959  2.373975   12.100718         0.0  2.667228   \n",
      "9998  10.217276   9.210440  2.483239   10.419331         0.0  2.714032   \n",
      "9999   9.074521  10.275086  2.076938   11.561725         0.0  3.370051   \n",
      "\n",
      "      delinq_2yrs  fico_range_low  inq_last_6mths  open_acc  ...  \\\n",
      "0        0.000000        4.025352        0.693147  3.332205  ...   \n",
      "1        0.000000        2.397895        0.693147  3.044522  ...   \n",
      "2        0.000000        1.791759        0.693147  1.386294  ...   \n",
      "3        0.000000        1.791759        0.693147  3.044522  ...   \n",
      "4        0.000000        2.772589        0.000000  2.397895  ...   \n",
      "...           ...             ...             ...       ...  ...   \n",
      "9995     0.000000        3.258097        0.693147  2.079442  ...   \n",
      "9996     0.000000        3.828641        0.693147  2.079442  ...   \n",
      "9997     0.693147        3.044522        0.000000  2.833213  ...   \n",
      "9998     0.000000        4.189655        0.000000  2.484907  ...   \n",
      "9999     0.000000        3.931826        0.000000  2.484907  ...   \n",
      "\n",
      "      addr_state_WI  addr_state_WV  addr_state_WY  initial_list_status_w  \\\n",
      "0             False          False          False                   True   \n",
      "1             False          False          False                  False   \n",
      "2             False          False          False                   True   \n",
      "3             False          False          False                  False   \n",
      "4             False          False          False                   True   \n",
      "...             ...            ...            ...                    ...   \n",
      "9995          False          False          False                   True   \n",
      "9996          False          False          False                   True   \n",
      "9997          False          False          False                   True   \n",
      "9998          False          False          False                   True   \n",
      "9999          False          False          False                  False   \n",
      "\n",
      "      application_type_Joint App  disbursement_method_DirectPay  \\\n",
      "0                          False                          False   \n",
      "1                          False                          False   \n",
      "2                          False                          False   \n",
      "3                          False                          False   \n",
      "4                          False                          False   \n",
      "...                          ...                            ...   \n",
      "9995                       False                          False   \n",
      "9996                       False                          False   \n",
      "9997                       False                          False   \n",
      "9998                       False                          False   \n",
      "9999                       False                          False   \n",
      "\n",
      "      num_tl_120dpd_2m_1.0  num_tl_30dpd_1.0  num_tl_30dpd_2.0  grade  \n",
      "0                    False             False             False      A  \n",
      "1                    False             False             False      E  \n",
      "2                    False             False             False      D  \n",
      "3                    False             False             False      C  \n",
      "4                    False             False             False      C  \n",
      "...                    ...               ...               ...    ...  \n",
      "9995                 False             False             False      C  \n",
      "9996                 False             False             False      B  \n",
      "9997                 False             False             False      C  \n",
      "9998                 False             False             False      D  \n",
      "9999                 False             False             False      C  \n",
      "\n",
      "[10000 rows x 154 columns]\n"
     ]
    }
   ],
   "source": [
    "pfad = 'C:/Users/benja/Documents/Persoenlich/Ausbildung/TU/Digitale_Kompetenzen/03_Anwendungsfelder_der_Digitalisierung/Machine_Learning/UE/1_Exercise/Datensaetze/loan_preproc/'\n",
    "\n",
    "loan_data = pd.read_csv(pfad + 'loan_train_update.csv')\n",
    "print(loan_data)"
   ]
  },
  {
   "cell_type": "code",
   "execution_count": 346,
   "id": "a534ceed",
   "metadata": {},
   "outputs": [
    {
     "name": "stdout",
     "output_type": "stream",
     "text": [
      "             ID  loan_amnt  int_rate  annual_inc  pymnt_plan       dti  \\\n",
      "9254  11.358025   9.305741  2.038620   10.308986         0.0  3.525183   \n",
      "1561  11.480444   9.105091  2.234306   10.691968         0.0  2.313525   \n",
      "1670   9.254931   0.000000  3.091042    9.798183         0.0  0.000000   \n",
      "6087  10.551690   9.159152  2.368373   11.608245         0.0  3.282414   \n",
      "6669  10.725775  10.275086  1.581038   11.884496         0.0  2.805782   \n",
      "...         ...        ...       ...         ...         ...       ...   \n",
      "5734  10.951017  10.034560  2.038620   10.985310         0.0  3.171784   \n",
      "5191  10.633521   8.383890  2.317474   10.477316         0.0  3.432696   \n",
      "5390  11.403847   9.105091  2.884242   11.010415         0.0  2.738903   \n",
      "860    7.047517   8.294300  2.227862   10.308986         0.0  2.942859   \n",
      "7270  10.295158  10.275086  2.689207   10.668979         0.0  1.576915   \n",
      "\n",
      "      delinq_2yrs  fico_range_low  inq_last_6mths  open_acc  ...  \\\n",
      "9254     0.000000        3.258097        0.000000  1.609438  ...   \n",
      "1561     0.000000        3.044522        0.000000  2.564949  ...   \n",
      "1670     1.098612        2.772589        0.693147  2.302585  ...   \n",
      "6087     0.693147        3.583519        0.693147  2.302585  ...   \n",
      "6669     0.693147        4.110874        0.000000  2.639057  ...   \n",
      "...           ...             ...             ...       ...  ...   \n",
      "5734     0.000000        3.258097        0.000000  2.302585  ...   \n",
      "5191     0.693147        2.397895        0.000000  1.791759  ...   \n",
      "5390     0.000000        3.258097        0.000000  1.791759  ...   \n",
      "860      0.000000        1.791759        0.693147  1.791759  ...   \n",
      "7270     0.000000        0.000000        0.000000  1.098612  ...   \n",
      "\n",
      "      addr_state_WA  addr_state_WI  addr_state_WV  addr_state_WY  \\\n",
      "9254          False          False          False          False   \n",
      "1561          False          False          False          False   \n",
      "1670          False          False          False          False   \n",
      "6087          False          False          False          False   \n",
      "6669          False          False          False          False   \n",
      "...             ...            ...            ...            ...   \n",
      "5734          False          False          False          False   \n",
      "5191          False          False          False          False   \n",
      "5390          False          False          False          False   \n",
      "860           False          False          False          False   \n",
      "7270          False          False          False          False   \n",
      "\n",
      "      initial_list_status_w  application_type_Joint App  \\\n",
      "9254                   True                       False   \n",
      "1561                   True                       False   \n",
      "1670                   True                       False   \n",
      "6087                   True                       False   \n",
      "6669                   True                       False   \n",
      "...                     ...                         ...   \n",
      "5734                   True                       False   \n",
      "5191                   True                       False   \n",
      "5390                  False                       False   \n",
      "860                   False                       False   \n",
      "7270                  False                       False   \n",
      "\n",
      "      disbursement_method_DirectPay  num_tl_120dpd_2m_1.0  num_tl_30dpd_1.0  \\\n",
      "9254                          False                 False             False   \n",
      "1561                          False                 False             False   \n",
      "1670                          False                 False             False   \n",
      "6087                          False                 False             False   \n",
      "6669                          False                 False             False   \n",
      "...                             ...                   ...               ...   \n",
      "5734                          False                 False             False   \n",
      "5191                          False                 False             False   \n",
      "5390                          False                 False             False   \n",
      "860                           False                 False             False   \n",
      "7270                          False                 False             False   \n",
      "\n",
      "      num_tl_30dpd_2.0  \n",
      "9254             False  \n",
      "1561             False  \n",
      "1670             False  \n",
      "6087             False  \n",
      "6669             False  \n",
      "...                ...  \n",
      "5734             False  \n",
      "5191             False  \n",
      "5390             False  \n",
      "860              False  \n",
      "7270             False  \n",
      "\n",
      "[8000 rows x 153 columns]\n"
     ]
    }
   ],
   "source": [
    "#Holdout-Methode\n",
    "from sklearn.model_selection import train_test_split\n",
    "\n",
    "X = loan_data.iloc[:, 0:-1]\n",
    "y = loan_data['grade'] # Mammographic\n",
    "\n",
    "loan_X_train, loan_X_test, loan_y_train, loan_y_test = train_test_split(X,y,test_size=0.2, random_state=42)\n",
    "\n",
    "print(loan_X_train)"
   ]
  },
  {
   "cell_type": "code",
   "execution_count": 347,
   "id": "d3933470",
   "metadata": {},
   "outputs": [
    {
     "name": "stdout",
     "output_type": "stream",
     "text": [
      "             ID  loan_amnt  int_rate  annual_inc  pymnt_plan       dti  \\\n",
      "6252  11.421556   9.088286  2.483239   10.950824         0.0  3.185939   \n",
      "4684  11.052761   9.852247  2.234306   10.827072         0.0  3.094219   \n",
      "1731  10.891615   9.305741  2.279316   11.396403         0.0  3.004692   \n",
      "4742  11.204061  10.203629  0.779325   11.951187         0.0  2.610070   \n",
      "4521  10.913906   8.517393  1.726332    9.852247         0.0  2.901422   \n",
      "...         ...        ...       ...         ...         ...       ...   \n",
      "6412  11.236051   9.546884  0.875469   10.915107         0.0  3.545009   \n",
      "8285   9.886596   9.741027  2.076938   11.112463         0.0  2.716680   \n",
      "7853   9.195227   9.105091  1.275363   11.289794         0.0  2.622492   \n",
      "1095  10.056638  10.434145  1.976855   12.180760         0.0  2.786245   \n",
      "6929  10.810253   9.105091  1.297463   10.341775         0.0  3.273364   \n",
      "\n",
      "      delinq_2yrs  fico_range_low  inq_last_6mths  open_acc  ...  \\\n",
      "6252     0.693147        3.433987        0.693147  2.302585  ...   \n",
      "4684     0.000000        3.713572        0.000000  2.833213  ...   \n",
      "1731     0.000000        2.397895        0.693147  3.044522  ...   \n",
      "4742     1.386294        3.931826        0.000000  2.708050  ...   \n",
      "4521     0.000000        4.709530        0.693147  1.386294  ...   \n",
      "...           ...             ...             ...       ...  ...   \n",
      "6412     0.693147        3.044522        1.098612  3.526361  ...   \n",
      "8285     0.000000        1.791759        1.098612  1.609438  ...   \n",
      "7853     0.000000        3.583519        0.000000  1.791759  ...   \n",
      "1095     0.693147        3.931826        0.693147  3.135494  ...   \n",
      "6929     0.000000        4.510860        0.693147  2.397895  ...   \n",
      "\n",
      "      addr_state_WA  addr_state_WI  addr_state_WV  addr_state_WY  \\\n",
      "6252          False          False          False          False   \n",
      "4684          False          False          False          False   \n",
      "1731          False          False          False          False   \n",
      "4742          False          False          False          False   \n",
      "4521          False          False          False          False   \n",
      "...             ...            ...            ...            ...   \n",
      "6412          False          False          False          False   \n",
      "8285          False          False          False          False   \n",
      "7853          False          False          False          False   \n",
      "1095          False          False          False          False   \n",
      "6929          False          False          False          False   \n",
      "\n",
      "      initial_list_status_w  application_type_Joint App  \\\n",
      "6252                  False                       False   \n",
      "4684                  False                       False   \n",
      "1731                   True                       False   \n",
      "4742                   True                       False   \n",
      "4521                   True                       False   \n",
      "...                     ...                         ...   \n",
      "6412                   True                       False   \n",
      "8285                   True                       False   \n",
      "7853                   True                       False   \n",
      "1095                   True                       False   \n",
      "6929                   True                       False   \n",
      "\n",
      "      disbursement_method_DirectPay  num_tl_120dpd_2m_1.0  num_tl_30dpd_1.0  \\\n",
      "6252                          False                 False             False   \n",
      "4684                          False                 False             False   \n",
      "1731                          False                 False             False   \n",
      "4742                          False                 False             False   \n",
      "4521                          False                 False             False   \n",
      "...                             ...                   ...               ...   \n",
      "6412                           True                 False             False   \n",
      "8285                          False                 False             False   \n",
      "7853                          False                 False             False   \n",
      "1095                          False                 False             False   \n",
      "6929                          False                 False             False   \n",
      "\n",
      "      num_tl_30dpd_2.0  \n",
      "6252             False  \n",
      "4684             False  \n",
      "1731             False  \n",
      "4742             False  \n",
      "4521             False  \n",
      "...                ...  \n",
      "6412             False  \n",
      "8285             False  \n",
      "7853             False  \n",
      "1095             False  \n",
      "6929             False  \n",
      "\n",
      "[2000 rows x 153 columns]\n"
     ]
    }
   ],
   "source": [
    "print(loan_X_test)"
   ]
  },
  {
   "cell_type": "markdown",
   "id": "8c798c5b",
   "metadata": {},
   "source": [
    "# Entscheidungsbaum: Loan"
   ]
  },
  {
   "cell_type": "code",
   "execution_count": 400,
   "id": "5da2027c",
   "metadata": {},
   "outputs": [],
   "source": [
    "# Entscheidungsbaum mit Default-Einstellungen und unkorrilierten Daten\n",
    "from sklearn.tree import DecisionTreeClassifier\n",
    "clf = DecisionTreeClassifier(criterion = 'entropy', max_depth = 5, max_features = 6) #Init des Entscheidungsbaumes\n",
    "clf = clf.fit(loan_X_train,loan_y_train)  #Training des Entscheidungsbaumes\n",
    "#clf.get_params()"
   ]
  },
  {
   "cell_type": "code",
   "execution_count": 401,
   "id": "777d5bf2",
   "metadata": {},
   "outputs": [],
   "source": [
    "y_pred = clf.predict(loan_X_test) #Prädiktion der Testdaten\n",
    "#y_pred"
   ]
  },
  {
   "cell_type": "code",
   "execution_count": 402,
   "id": "e9ad51fd",
   "metadata": {},
   "outputs": [
    {
     "data": {
      "text/plain": [
       "0.5865"
      ]
     },
     "execution_count": 402,
     "metadata": {},
     "output_type": "execute_result"
    }
   ],
   "source": [
    "accuracy_score(loan_y_test, y_pred)"
   ]
  },
  {
   "cell_type": "code",
   "execution_count": 403,
   "id": "5ef51ed1",
   "metadata": {},
   "outputs": [
    {
     "data": {
      "text/plain": [
       "array([0.3375, 0.425 , 0.3775, 0.38  , 0.3675, 0.4075, 0.3775, 0.355 ,\n",
       "       0.36  , 0.35  , 0.405 , 0.44  , 0.3975, 0.4575, 0.4775, 0.3775,\n",
       "       0.3825, 0.3425, 0.3875, 0.3625])"
      ]
     },
     "execution_count": 403,
     "metadata": {},
     "output_type": "execute_result"
    }
   ],
   "source": [
    "scores = cross_val_score(clf, loan_X_train, loan_y_train, cv = 20) #Kreuzvalidierung\n",
    "scores"
   ]
  },
  {
   "cell_type": "code",
   "execution_count": 394,
   "id": "3763b000",
   "metadata": {},
   "outputs": [
    {
     "data": {
      "text/plain": [
       "0.383"
      ]
     },
     "execution_count": 394,
     "metadata": {},
     "output_type": "execute_result"
    }
   ],
   "source": [
    "np.mean(scores) #Generalisierbarkeit des Modells"
   ]
  },
  {
   "cell_type": "code",
   "execution_count": 395,
   "id": "9f478b60",
   "metadata": {},
   "outputs": [
    {
     "data": {
      "text/plain": [
       "0.07311634564172363"
      ]
     },
     "execution_count": 395,
     "metadata": {},
     "output_type": "execute_result"
    }
   ],
   "source": [
    "np.std(scores) #Stabilität des Modellgüte"
   ]
  },
  {
   "cell_type": "code",
   "execution_count": 404,
   "id": "bfd2cb1e",
   "metadata": {},
   "outputs": [
    {
     "name": "stdout",
     "output_type": "stream",
     "text": [
      "              precision    recall  f1-score   support\n",
      "\n",
      "           A       0.60      0.62      0.61       357\n",
      "           B       0.72      0.67      0.69       581\n",
      "           C       0.52      0.95      0.67       587\n",
      "           D       0.18      0.01      0.03       293\n",
      "           E       0.00      0.00      0.00       133\n",
      "           F       0.00      0.00      0.00        35\n",
      "           G       0.00      0.00      0.00        14\n",
      "\n",
      "    accuracy                           0.59      2000\n",
      "   macro avg       0.29      0.32      0.29      2000\n",
      "weighted avg       0.50      0.59      0.51      2000\n",
      "\n"
     ]
    },
    {
     "name": "stderr",
     "output_type": "stream",
     "text": [
      "C:\\Users\\benja\\anaconda3\\Lib\\site-packages\\sklearn\\metrics\\_classification.py:1469: UndefinedMetricWarning: Precision and F-score are ill-defined and being set to 0.0 in labels with no predicted samples. Use `zero_division` parameter to control this behavior.\n",
      "  _warn_prf(average, modifier, msg_start, len(result))\n",
      "C:\\Users\\benja\\anaconda3\\Lib\\site-packages\\sklearn\\metrics\\_classification.py:1469: UndefinedMetricWarning: Precision and F-score are ill-defined and being set to 0.0 in labels with no predicted samples. Use `zero_division` parameter to control this behavior.\n",
      "  _warn_prf(average, modifier, msg_start, len(result))\n",
      "C:\\Users\\benja\\anaconda3\\Lib\\site-packages\\sklearn\\metrics\\_classification.py:1469: UndefinedMetricWarning: Precision and F-score are ill-defined and being set to 0.0 in labels with no predicted samples. Use `zero_division` parameter to control this behavior.\n",
      "  _warn_prf(average, modifier, msg_start, len(result))\n"
     ]
    }
   ],
   "source": [
    "class_report_train = classification_report(loan_y_test, y_pred)\n",
    "print(class_report_train)"
   ]
  },
  {
   "cell_type": "code",
   "execution_count": 358,
   "id": "a563a54b",
   "metadata": {},
   "outputs": [
    {
     "data": {
      "image/png": "[encoded data removed]",
      "text/plain": [
       "<Figure size 600x400 with 2 Axes>"
      ]
     },
     "metadata": {},
     "output_type": "display_data"
    }
   ],
   "source": [
    "# Plot confusion matrix for test data\n",
    "from sklearn.metrics import confusion_matrix\n",
    "import matplotlib.pyplot as plt\n",
    "import seaborn as sns\n",
    "\n",
    "conf_matrix_test = confusion_matrix(loan_y_test, y_pred)\n",
    "\n",
    "plt.figure(figsize=(6, 4))\n",
    "sns.heatmap(conf_matrix_test, annot=True, fmt=\"d\", cmap='Blues', xticklabels=['A', 'B','C','D','E','F','G'], yticklabels=['A', 'B','C','D','E','F','G'])\n",
    "plt.ylabel('True Label')\n",
    "plt.xlabel('Predicted Label')\n",
    "plt.title('Confusion Matrix for Gaussian NB on Test Data')\n",
    "plt.show()"
   ]
  },
  {
   "cell_type": "code",
   "execution_count": null,
   "id": "ed043821",
   "metadata": {},
   "outputs": [],
   "source": []
  }
 ],
 "metadata": {
  "kernelspec": {
   "display_name": "Python 3 (ipykernel)",
   "language": "python",
   "name": "python3"
  },
  "language_info": {
   "codemirror_mode": {
    "name": "ipython",
    "version": 3
   },
   "file_extension": ".py",
   "mimetype": "text/x-python",
   "name": "python",
   "nbconvert_exporter": "python",
   "pygments_lexer": "ipython3",
   "version": "3.12.3"
  }
 },
 "nbformat": 4,
 "nbformat_minor": 5
}
