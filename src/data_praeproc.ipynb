{
 "cells": [
  {
   "cell_type": "code",
   "execution_count": 1,
   "id": "f186869d",
   "metadata": {},
   "outputs": [
    {
     "name": "stdout",
     "output_type": "stream",
     "text": [
      "     Index  BI-RADS    Age  Shape  Margin  Density  Severity\n",
      "0        1      5.0  670.0    3.0     5.0      3.0         1\n",
      "1        2      4.0  430.0    1.0     1.0      NaN         1\n",
      "2        3      5.0  580.0    4.0     5.0      3.0         1\n",
      "3        4      4.0  280.0    1.0     1.0      3.0         0\n",
      "4        5      5.0  740.0    1.0     5.0      NaN         1\n",
      "..     ...      ...    ...    ...     ...      ...       ...\n",
      "956    957      4.0  470.0    2.0     1.0      3.0         0\n",
      "957    958      4.0  560.0    4.0     5.0      3.0         1\n",
      "958    959      4.0  640.0    4.0     5.0      3.0         0\n",
      "959    960      5.0  660.0    4.0     5.0      3.0         1\n",
      "960    961      4.0  620.0    3.0     3.0      3.0         0\n",
      "\n",
      "[961 rows x 7 columns]\n"
     ]
    }
   ],
   "source": [
    "import pandas as pd\n",
    "\n",
    "##Breast Cancer Diagnosis\n",
    "#pfad = 'C:/Users/benja/Documents/Persoenlich/Ausbildung/TU/Digitale_Kompetenzen/03_Anwendungsfelder_der_Digitalisierung/Machine_Learning/UE/1_Exercise/Datensaetze/breast_cancer/'\n",
    "#data = pd.read_csv(pfad + 'breast-cancer-diagnostic.shuf.lrn.csv')\n",
    "\n",
    "##Congressional Voting\n",
    "#pfad = 'C:/Users/benja/Documents/Persoenlich/Ausbildung/TU/Digitale_Kompetenzen/03_Anwendungsfelder_der_Digitalisierung/Machine_Learning/UE/1_Exercise/Datensaetze/congress_voting/'\n",
    "#data = pd.read_csv(pfad + 'CongressionalVotingID.shuf.lrn.csv')\n",
    "\n",
    "##Mammographic Mass Dataset\n",
    "pfad = 'C:/Users/benja/Documents/Persoenlich/Ausbildung/TU/Digitale_Kompetenzen/03_Anwendungsfelder_der_Digitalisierung/Machine_Learning/UE/1_Exercise/Datensaetze/Mammographic_mass_dataset/'\n",
    "data = pd.read_csv(pfad + 'mammographic_mass_data_set.csv', na_values='?', sep=';')\n",
    "\n",
    "print(data)"
   ]
  },
  {
   "cell_type": "code",
   "execution_count": 5,
   "id": "c283f8ce",
   "metadata": {},
   "outputs": [
    {
     "name": "stdout",
     "output_type": "stream",
     "text": [
      "     Index  BI-RADS    Age  Shape  Margin  Density\n",
      "0        1      5.0  670.0    3.0     5.0      3.0\n",
      "1        2      4.0  430.0    1.0     1.0      NaN\n",
      "2        3      5.0  580.0    4.0     5.0      3.0\n",
      "3        4      4.0  280.0    1.0     1.0      3.0\n",
      "4        5      5.0  740.0    1.0     5.0      NaN\n",
      "..     ...      ...    ...    ...     ...      ...\n",
      "953    954      4.0  560.0    2.0     4.0      3.0\n",
      "954    955      4.0  350.0    2.0     1.0      3.0\n",
      "957    958      4.0  560.0    4.0     5.0      3.0\n",
      "958    959      4.0  640.0    4.0     5.0      3.0\n",
      "960    961      4.0  620.0    3.0     3.0      3.0\n",
      "\n",
      "[768 rows x 6 columns]\n"
     ]
    }
   ],
   "source": [
    "#Holdout-Methode\n",
    "from sklearn.model_selection import train_test_split\n",
    "X = data.iloc[:, 0:-1]\n",
    "y = data['Severity'] # Mammographic\n",
    "\n",
    "X_train, X_test, y_train, y_test = train_test_split(X,y,test_size=0.2, random_state=42)\n",
    "\n",
    "print(X_train.sort_index())"
   ]
  },
  {
   "cell_type": "code",
   "execution_count": 6,
   "id": "802878b2",
   "metadata": {},
   "outputs": [
    {
     "name": "stdout",
     "output_type": "stream",
     "text": [
      "     Index  BI-RADS    Age  Shape  Margin  Density\n",
      "23      24      5.0  420.0    4.0     4.0      3.0\n",
      "30      31      4.0  460.0    1.0     5.0      2.0\n",
      "31      32      5.0  540.0    4.0     4.0      3.0\n",
      "33      34      4.0  390.0    1.0     1.0      2.0\n",
      "39      40      4.0  550.0    3.0     4.0      2.0\n",
      "..     ...      ...    ...    ...     ...      ...\n",
      "950    951      0.0  710.0    4.0     4.0      3.0\n",
      "952    953      4.0  680.0    4.0     4.0      3.0\n",
      "955    956      4.0  520.0    4.0     4.0      3.0\n",
      "956    957      4.0  470.0    2.0     1.0      3.0\n",
      "959    960      5.0  660.0    4.0     5.0      3.0\n",
      "\n",
      "[193 rows x 6 columns]\n"
     ]
    }
   ],
   "source": [
    "print(X_test.sort_index())"
   ]
  },
  {
   "cell_type": "code",
   "execution_count": 9,
   "id": "7a7061bb",
   "metadata": {},
   "outputs": [
    {
     "name": "stdout",
     "output_type": "stream",
     "text": [
      "     Index  BI-RADS    Age  Shape  Margin   Density\n",
      "0    469.0      4.0  320.0    1.0     1.0  3.000000\n",
      "1    925.0      4.0  570.0    4.0     4.0  3.000000\n",
      "2    550.0      5.0  690.0    3.0     4.0  3.000000\n",
      "3    281.0      5.0  400.0    1.0     4.0  3.000000\n",
      "4    110.0      5.0  330.0    4.0     4.0  2.920792\n",
      "..     ...      ...    ...    ...     ...       ...\n",
      "763  107.0      4.0  440.0    1.0     1.0  2.920792\n",
      "764  271.0      5.0  670.0    4.0     4.0  3.000000\n",
      "765  861.0      5.0  620.0    4.0     5.0  3.000000\n",
      "766  436.0      4.0  680.0    4.0     5.0  3.000000\n",
      "767  103.0      4.0  580.0    4.0     4.0  2.920792\n",
      "\n",
      "[768 rows x 6 columns]\n"
     ]
    }
   ],
   "source": [
    "# Imputation: Mittelwert - Mammograhic\n",
    "from sklearn.impute import SimpleImputer\n",
    "import pandas as pd\n",
    "\n",
    "imputer = SimpleImputer(strategy='mean')\n",
    "X_train_imputed_mean = pd.DataFrame(imputer.fit_transform(X_train), columns=X_train.columns)\n",
    "print(X_train_imputed_mean)"
   ]
  },
  {
   "cell_type": "code",
   "execution_count": 14,
   "id": "08e726fe",
   "metadata": {},
   "outputs": [
    {
     "data": {
      "text/plain": [
       "Index       0\n",
       "BI-RADS     2\n",
       "Age         4\n",
       "Shape      25\n",
       "Margin     41\n",
       "Density    61\n",
       "dtype: int64"
      ]
     },
     "execution_count": 14,
     "metadata": {},
     "output_type": "execute_result"
    }
   ],
   "source": [
    "X_train.isna().sum()"
   ]
  },
  {
   "cell_type": "code",
   "execution_count": 10,
   "id": "19ea88c2",
   "metadata": {},
   "outputs": [
    {
     "name": "stdout",
     "output_type": "stream",
     "text": [
      "     Index  BI-RADS    Age     Shape  Margin   Density\n",
      "0    345.0      4.0  620.0  1.000000     1.0  3.000000\n",
      "1    382.0      5.0  500.0  4.000000     3.0  3.000000\n",
      "2    352.0      5.0  390.0  4.000000     3.0  2.870787\n",
      "3    778.0      4.0  330.0  1.000000     1.0  3.000000\n",
      "4    278.0      4.0  350.0  4.000000     2.0  2.870787\n",
      "..     ...      ...    ...       ...     ...       ...\n",
      "188  552.0      3.0  270.0  2.000000     1.0  3.000000\n",
      "189   34.0      4.0  390.0  1.000000     1.0  2.000000\n",
      "190   32.0      5.0  540.0  4.000000     4.0  3.000000\n",
      "191  716.0      4.0  650.0  2.000000     3.0  2.000000\n",
      "192  661.0      4.0  580.0  2.807487     4.0  3.000000\n",
      "\n",
      "[193 rows x 6 columns]\n"
     ]
    }
   ],
   "source": [
    "# Imputation: Mittelwert - Mammograhic\n",
    "from sklearn.impute import SimpleImputer\n",
    "import pandas as pd\n",
    "\n",
    "imputer = SimpleImputer(strategy='mean')\n",
    "X_test_imputed_mean = pd.DataFrame(imputer.fit_transform(X_test), columns=X_test.columns)\n",
    "print(X_test_imputed_mean)"
   ]
  },
  {
   "cell_type": "code",
   "execution_count": 13,
   "id": "32b2c3c9",
   "metadata": {},
   "outputs": [
    {
     "data": {
      "text/plain": [
       "Index       0\n",
       "BI-RADS     0\n",
       "Age         1\n",
       "Shape       6\n",
       "Margin      7\n",
       "Density    15\n",
       "dtype: int64"
      ]
     },
     "execution_count": 13,
     "metadata": {},
     "output_type": "execute_result"
    }
   ],
   "source": [
    "X_test.isna().sum()"
   ]
  },
  {
   "cell_type": "code",
   "execution_count": 11,
   "id": "66d8d404",
   "metadata": {},
   "outputs": [
    {
     "name": "stdout",
     "output_type": "stream",
     "text": [
      "     Index  BI-RADS    Age  Shape  Margin  Density\n",
      "0    469.0      4.0  320.0    1.0     1.0      3.0\n",
      "1    925.0      4.0  570.0    4.0     4.0      3.0\n",
      "2    550.0      5.0  690.0    3.0     4.0      3.0\n",
      "3    281.0      5.0  400.0    1.0     4.0      3.0\n",
      "4    110.0      5.0  330.0    4.0     4.0      3.0\n",
      "..     ...      ...    ...    ...     ...      ...\n",
      "763  107.0      4.0  440.0    1.0     1.0      3.0\n",
      "764  271.0      5.0  670.0    4.0     4.0      3.0\n",
      "765  861.0      5.0  620.0    4.0     5.0      3.0\n",
      "766  436.0      4.0  680.0    4.0     5.0      3.0\n",
      "767  103.0      4.0  580.0    4.0     4.0      3.0\n",
      "\n",
      "[768 rows x 6 columns]\n"
     ]
    }
   ],
   "source": [
    "# Imputation: Median - Mammograhic\n",
    "from sklearn.impute import SimpleImputer\n",
    "import pandas as pd\n",
    "\n",
    "imputer = SimpleImputer(strategy='median')\n",
    "X_train_imputed_median = pd.DataFrame(imputer.fit_transform(X_train), columns=X_train.columns)\n",
    "print(X_train_imputed_median)"
   ]
  },
  {
   "cell_type": "code",
   "execution_count": 12,
   "id": "d043ad04",
   "metadata": {},
   "outputs": [
    {
     "name": "stdout",
     "output_type": "stream",
     "text": [
      "     Index  BI-RADS    Age  Shape  Margin  Density\n",
      "0    345.0      4.0  620.0    1.0     1.0      3.0\n",
      "1    382.0      5.0  500.0    4.0     3.0      3.0\n",
      "2    352.0      5.0  390.0    4.0     3.0      3.0\n",
      "3    778.0      4.0  330.0    1.0     1.0      3.0\n",
      "4    278.0      4.0  350.0    4.0     2.0      3.0\n",
      "..     ...      ...    ...    ...     ...      ...\n",
      "188  552.0      3.0  270.0    2.0     1.0      3.0\n",
      "189   34.0      4.0  390.0    1.0     1.0      2.0\n",
      "190   32.0      5.0  540.0    4.0     4.0      3.0\n",
      "191  716.0      4.0  650.0    2.0     3.0      2.0\n",
      "192  661.0      4.0  580.0    3.0     4.0      3.0\n",
      "\n",
      "[193 rows x 6 columns]\n"
     ]
    }
   ],
   "source": [
    "# Imputation: Median - Mammograhic\n",
    "from sklearn.impute import SimpleImputer\n",
    "import pandas as pd\n",
    "\n",
    "imputer = SimpleImputer(strategy='median')\n",
    "X_test_imputed_median = pd.DataFrame(imputer.fit_transform(X_test), columns=X_test.columns)\n",
    "print(X_test_imputed_median)"
   ]
  },
  {
   "cell_type": "code",
   "execution_count": 16,
   "id": "da44f3ef",
   "metadata": {},
   "outputs": [
    {
     "name": "stdout",
     "output_type": "stream",
     "text": [
      "     Index  BI-RADS    Age  Shape  Margin   Density\n",
      "0    469.0      4.0  320.0    1.0     1.0  3.000000\n",
      "1    925.0      4.0  570.0    4.0     4.0  3.000000\n",
      "2    550.0      5.0  690.0    3.0     4.0  3.000000\n",
      "3    281.0      5.0  400.0    1.0     4.0  3.000000\n",
      "4    110.0      5.0  330.0    4.0     4.0  2.847357\n",
      "..     ...      ...    ...    ...     ...       ...\n",
      "763  107.0      4.0  440.0    1.0     1.0  2.854995\n",
      "764  271.0      5.0  670.0    4.0     4.0  3.000000\n",
      "765  861.0      5.0  620.0    4.0     5.0  3.000000\n",
      "766  436.0      4.0  680.0    4.0     5.0  3.000000\n",
      "767  103.0      4.0  580.0    4.0     4.0  2.868635\n",
      "\n",
      "[768 rows x 6 columns]\n"
     ]
    }
   ],
   "source": [
    "# Imputation: Regression - Mammograhic\n",
    "import pandas as pd\n",
    "import numpy as np\n",
    "from sklearn.experimental import enable_iterative_imputer  # noqa\n",
    "from sklearn.impute import IterativeImputer\n",
    "\n",
    "imputer = IterativeImputer(max_iter=10, random_state=0)\n",
    "X_train_imputed_regr = pd.DataFrame(imputer.fit_transform(X_train), columns=X_train.columns)\n",
    "print(X_train_imputed_regr)"
   ]
  },
  {
   "cell_type": "code",
   "execution_count": 17,
   "id": "8fd4bbe5",
   "metadata": {},
   "outputs": [
    {
     "name": "stdout",
     "output_type": "stream",
     "text": [
      "     Index  BI-RADS    Age     Shape  Margin   Density\n",
      "0    345.0      4.0  620.0  1.000000     1.0  3.000000\n",
      "1    382.0      5.0  500.0  4.000000     3.0  3.000000\n",
      "2    352.0      5.0  390.0  4.000000     3.0  2.840703\n",
      "3    778.0      4.0  330.0  1.000000     1.0  3.000000\n",
      "4    278.0      4.0  350.0  4.000000     2.0  2.828665\n",
      "..     ...      ...    ...       ...     ...       ...\n",
      "188  552.0      3.0  270.0  2.000000     1.0  3.000000\n",
      "189   34.0      4.0  390.0  1.000000     1.0  2.000000\n",
      "190   32.0      5.0  540.0  4.000000     4.0  3.000000\n",
      "191  716.0      4.0  650.0  2.000000     3.0  2.000000\n",
      "192  661.0      4.0  580.0  3.374378     4.0  3.000000\n",
      "\n",
      "[193 rows x 6 columns]\n"
     ]
    }
   ],
   "source": [
    "# Imputation: Regression - Mammograhic\n",
    "import pandas as pd\n",
    "import numpy as np\n",
    "from sklearn.experimental import enable_iterative_imputer  # noqa\n",
    "from sklearn.impute import IterativeImputer\n",
    "\n",
    "imputer = IterativeImputer(max_iter=10, random_state=0)\n",
    "X_test_imputed_regr = pd.DataFrame(imputer.fit_transform(X_test), columns=X_test.columns)\n",
    "print(X_test_imputed_regr)"
   ]
  },
  {
   "cell_type": "code",
   "execution_count": 20,
   "id": "08d90306",
   "metadata": {},
   "outputs": [
    {
     "name": "stdout",
     "output_type": "stream",
     "text": [
      "     Index  BI-RADS    Age  Shape  Margin  Density\n",
      "468    469      4.0  320.0    1.0     1.0      3.0\n",
      "924    925      4.0  570.0    4.0     4.0      3.0\n",
      "549    550      5.0  690.0    3.0     4.0      3.0\n",
      "280    281      5.0  400.0    1.0     4.0      3.0\n",
      "77      78      4.0  640.0    1.0     1.0      3.0\n",
      "..     ...      ...    ...    ...     ...      ...\n",
      "700    701      4.0  500.0    4.0     3.0      3.0\n",
      "71      72      5.0  680.0    4.0     3.0      3.0\n",
      "270    271      5.0  670.0    4.0     4.0      3.0\n",
      "860    861      5.0  620.0    4.0     5.0      3.0\n",
      "435    436      4.0  680.0    4.0     5.0      3.0\n",
      "\n",
      "[660 rows x 6 columns]\n"
     ]
    }
   ],
   "source": [
    "# Löschen von NaN - Mammograhic\n",
    "X_train_clean = X_train.dropna()\n",
    "print(X_train_clean)"
   ]
  },
  {
   "cell_type": "code",
   "execution_count": 31,
   "id": "ac9a4830",
   "metadata": {},
   "outputs": [
    {
     "name": "stdout",
     "output_type": "stream",
     "text": [
      "468    0\n",
      "924    1\n",
      "549    1\n",
      "280    1\n",
      "77     0\n",
      "      ..\n",
      "700    1\n",
      "71     1\n",
      "270    1\n",
      "860    1\n",
      "435    1\n",
      "Name: Severity, Length: 660, dtype: int64\n"
     ]
    }
   ],
   "source": [
    "y_train_clean = y_train.loc[X_train_clean.index]\n",
    "print(y_train_clean)"
   ]
  },
  {
   "cell_type": "code",
   "execution_count": 21,
   "id": "8ba579ac",
   "metadata": {},
   "outputs": [
    {
     "name": "stdout",
     "output_type": "stream",
     "text": [
      "     Index  BI-RADS    Age  Shape  Margin  Density\n",
      "344    345      4.0  620.0    1.0     1.0      3.0\n",
      "381    382      5.0  500.0    4.0     3.0      3.0\n",
      "777    778      4.0  330.0    1.0     1.0      3.0\n",
      "666    667      5.0  540.0    4.0     3.0      3.0\n",
      "215    216      4.0  460.0    1.0     1.0      3.0\n",
      "..     ...      ...    ...    ...     ...      ...\n",
      "955    956      4.0  520.0    4.0     4.0      3.0\n",
      "551    552      3.0  270.0    2.0     1.0      3.0\n",
      "33      34      4.0  390.0    1.0     1.0      2.0\n",
      "31      32      5.0  540.0    4.0     4.0      3.0\n",
      "715    716      4.0  650.0    2.0     3.0      2.0\n",
      "\n",
      "[170 rows x 6 columns]\n"
     ]
    }
   ],
   "source": [
    "# Löschen von NaN - Mammograhic\n",
    "X_test_clean = X_test.dropna()\n",
    "print(X_test_clean)"
   ]
  },
  {
   "cell_type": "code",
   "execution_count": 32,
   "id": "5197a936",
   "metadata": {},
   "outputs": [
    {
     "name": "stdout",
     "output_type": "stream",
     "text": [
      "344    0\n",
      "381    1\n",
      "777    0\n",
      "666    0\n",
      "215    0\n",
      "      ..\n",
      "955    1\n",
      "551    0\n",
      "33     0\n",
      "31     1\n",
      "715    0\n",
      "Name: Severity, Length: 170, dtype: int64\n"
     ]
    }
   ],
   "source": [
    "y_test_clean = y_test.loc[X_test_clean.index]\n",
    "print(y_test_clean)"
   ]
  },
  {
   "cell_type": "code",
   "execution_count": 34,
   "id": "c8c04257",
   "metadata": {},
   "outputs": [
    {
     "name": "stdout",
     "output_type": "stream",
     "text": [
      "        Index   BI-RADS       Age     Shape    Margin   Density\n",
      "0   -0.035113 -0.183424 -1.634164 -1.395925 -1.141899  0.227880\n",
      "1    1.600106 -0.183424  0.087861  1.043403  0.796104  0.227880\n",
      "2    0.255354  0.328716  0.914433  0.230294  0.796104  0.227880\n",
      "3   -0.709282  0.328716 -1.083116 -1.395925  0.796104  0.227880\n",
      "4   -1.322489  0.328716 -1.565283  1.043403  0.796104 -0.191506\n",
      "..        ...       ...       ...       ...       ...       ...\n",
      "763 -1.333247 -0.183424 -0.807592 -1.395925 -1.141899 -0.170521\n",
      "764 -0.745142  0.328716  0.776671  1.043403  0.796104  0.227880\n",
      "765  1.370601  0.328716  0.432266  1.043403  1.442104  0.227880\n",
      "766 -0.153451 -0.183424  0.845552  1.043403  1.442104  0.227880\n",
      "767 -1.347591 -0.183424  0.156742  1.043403  0.796104 -0.133043\n",
      "\n",
      "[768 rows x 6 columns]\n"
     ]
    }
   ],
   "source": [
    "#Standardisierung der Daten (train)\n",
    "import pandas as pd\n",
    "from sklearn.preprocessing import StandardScaler\n",
    "scaler = StandardScaler()\n",
    "X_train_imputed_regr_standard = scaler.fit_transform(X_train_imputed_regr)\n",
    "X_train_imputed_regr_standard = pd.DataFrame(X_train_imputed_regr_standard, columns = X_train_imputed_regr.columns)\n",
    "print(X_train_imputed_regr_standard)"
   ]
  },
  {
   "cell_type": "code",
   "execution_count": 35,
   "id": "2081a5d1",
   "metadata": {},
   "outputs": [
    {
     "name": "stdout",
     "output_type": "stream",
     "text": [
      "        Index   BI-RADS       Age     Shape    Margin   Density\n",
      "0   -0.533460 -0.398691  0.521874 -1.473705 -1.168194  0.360980\n",
      "1   -0.397136  0.883765 -0.329705  0.981252  0.142647  0.360980\n",
      "2   -0.507669  0.883765 -1.110319  0.981252  0.142647 -0.072523\n",
      "3    1.061900 -0.398691 -1.536109 -1.473705 -1.168194  0.360980\n",
      "4   -0.780317 -0.398691 -1.394179  0.981252 -0.512774 -0.105282\n",
      "..        ...       ...       ...       ...       ...       ...\n",
      "188  0.229218 -1.681147 -1.961898 -0.655386 -1.168194  0.360980\n",
      "189 -1.679319 -0.398691 -1.110319 -1.473705 -1.168194 -2.360377\n",
      "190 -1.686688  0.883765 -0.045845  0.981252  0.798067  0.360980\n",
      "191  0.833465 -0.398691  0.734769 -0.655386  0.142647 -2.360377\n",
      "192  0.630821 -0.398691  0.238014  0.469294  0.798067  0.360980\n",
      "\n",
      "[193 rows x 6 columns]\n"
     ]
    }
   ],
   "source": [
    "#Standardisierung der Daten (test)\n",
    "import pandas as pd\n",
    "from sklearn.preprocessing import StandardScaler\n",
    "scaler = StandardScaler()\n",
    "X_test_imputed_regr_standard = scaler.fit_transform(X_test_imputed_regr)\n",
    "X_test_imputed_regr_standard = pd.DataFrame(X_test_imputed_regr_standard, columns = X_test_imputed_regr.columns)\n",
    "print(X_test_imputed_regr_standard)"
   ]
  },
  {
   "cell_type": "code",
   "execution_count": 25,
   "id": "bd34c26c",
   "metadata": {},
   "outputs": [],
   "source": [
    "pfad = 'C:/Users/benja/Documents/Persoenlich/Ausbildung/TU/Digitale_Kompetenzen/03_Anwendungsfelder_der_Digitalisierung/Machine_Learning/UE/1_Exercise/Datensaetze/Mammographic_mass_dataset/'\n",
    "y_train.to_csv(pfad + 'y_train.csv', index=False)\n",
    "y_test.to_csv(pfad + 'y_test.csv', index=False)\n"
   ]
  },
  {
   "cell_type": "code",
   "execution_count": 26,
   "id": "825ee6aa",
   "metadata": {},
   "outputs": [],
   "source": [
    "## Daten als CSV-Datei speichern - Imputation durch Mittelwert\n",
    "X_train_imputed_mean.to_csv(pfad + 'X_train_imputed_mean.csv', index=False)\n",
    "X_test_imputed_mean.to_csv(pfad + 'X_test_imputed_mean.csv', index=False)"
   ]
  },
  {
   "cell_type": "code",
   "execution_count": 27,
   "id": "72bc3a76",
   "metadata": {},
   "outputs": [],
   "source": [
    "## Daten als CSV-Datei speichern - Imputation durch Median\n",
    "X_train_imputed_median.to_csv(pfad + 'X_train_imputed_median.csv', index=False)\n",
    "X_test_imputed_median.to_csv(pfad + 'X_test_imputed_median.csv', index=False)"
   ]
  },
  {
   "cell_type": "code",
   "execution_count": 28,
   "id": "bfde7e20",
   "metadata": {},
   "outputs": [],
   "source": [
    "## Daten als CSV-Datei speichern - Imputation durch Regression\n",
    "X_train_imputed_regr.to_csv(pfad + 'X_train_imputed_regr.csv', index=False)\n",
    "X_test_imputed_regr.to_csv(pfad + 'X_test_imputed_regr.csv', index=False)"
   ]
  },
  {
   "cell_type": "code",
   "execution_count": 33,
   "id": "4f407fa9",
   "metadata": {},
   "outputs": [],
   "source": [
    "## Daten als CSV-Datei speichern - Gelöschte NaN-Einträge\n",
    "X_train_clean.to_csv(pfad + 'X_train_clean.csv', index=False)\n",
    "y_train_clean.to_csv(pfad + 'y_train_clean.csv', index=False)\n",
    "\n",
    "X_test_clean.to_csv(pfad + 'X_test_clean.csv', index=False)\n",
    "y_test_clean.to_csv(pfad + 'y_test_clean.csv', index=False)"
   ]
  },
  {
   "cell_type": "code",
   "execution_count": 36,
   "id": "edaa6c36",
   "metadata": {},
   "outputs": [],
   "source": [
    "## Daten als CSV-Datei speichern - Imputation durch Regression & Standardisierung\n",
    "X_train_imputed_regr_standard.to_csv(pfad + 'X_train_imputed_regr_standard.csv', index=False)\n",
    "X_test_imputed_regr_standard.to_csv(pfad + 'X_test_imputed_regr_standard.csv', index=False)\n"
   ]
  },
  {
   "cell_type": "code",
   "execution_count": null,
   "id": "cd0909ca",
   "metadata": {},
   "outputs": [],
   "source": []
  }
 ],
 "metadata": {
  "kernelspec": {
   "display_name": "Python 3 (ipykernel)",
   "language": "python",
   "name": "python3"
  },
  "language_info": {
   "codemirror_mode": {
    "name": "ipython",
    "version": 3
   },
   "file_extension": ".py",
   "mimetype": "text/x-python",
   "name": "python",
   "nbconvert_exporter": "python",
   "pygments_lexer": "ipython3",
   "version": "3.12.3"
  }
 },
 "nbformat": 4,
 "nbformat_minor": 5
}
